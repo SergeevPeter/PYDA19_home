{
 "cells": [
  {
   "cell_type": "markdown",
   "metadata": {},
   "source": [
    "# Функции в Pandas\n",
    "Примеры из презентации"
   ]
  },
  {
   "cell_type": "code",
   "execution_count": 1,
   "metadata": {},
   "outputs": [],
   "source": [
    "import pandas as pd"
   ]
  },
  {
   "cell_type": "code",
   "execution_count": 2,
   "metadata": {},
   "outputs": [
    {
     "data": {
      "text/html": [
       "<div>\n",
       "<style scoped>\n",
       "    .dataframe tbody tr th:only-of-type {\n",
       "        vertical-align: middle;\n",
       "    }\n",
       "\n",
       "    .dataframe tbody tr th {\n",
       "        vertical-align: top;\n",
       "    }\n",
       "\n",
       "    .dataframe thead th {\n",
       "        text-align: right;\n",
       "    }\n",
       "</style>\n",
       "<table border=\"1\" class=\"dataframe\">\n",
       "  <thead>\n",
       "    <tr style=\"text-align: right;\">\n",
       "      <th></th>\n",
       "      <th>user_id</th>\n",
       "      <th>clicks</th>\n",
       "      <th>orders</th>\n",
       "    </tr>\n",
       "  </thead>\n",
       "  <tbody>\n",
       "    <tr>\n",
       "      <th>0</th>\n",
       "      <td>1</td>\n",
       "      <td>163</td>\n",
       "      <td>2</td>\n",
       "    </tr>\n",
       "    <tr>\n",
       "      <th>1</th>\n",
       "      <td>2</td>\n",
       "      <td>130</td>\n",
       "      <td>4</td>\n",
       "    </tr>\n",
       "    <tr>\n",
       "      <th>2</th>\n",
       "      <td>3</td>\n",
       "      <td>97</td>\n",
       "      <td>0</td>\n",
       "    </tr>\n",
       "  </tbody>\n",
       "</table>\n",
       "</div>"
      ],
      "text/plain": [
       "   user_id  clicks  orders\n",
       "0        1     163       2\n",
       "1        2     130       4\n",
       "2        3      97       0"
      ]
     },
     "execution_count": 2,
     "metadata": {},
     "output_type": "execute_result"
    }
   ],
   "source": [
    "df = pd.DataFrame({'user_id': [1, 2, 3], 'clicks': [163, 130, 97], 'orders': [2, 4, 0]})\n",
    "df"
   ]
  },
  {
   "cell_type": "code",
   "execution_count": 9,
   "metadata": {
    "scrolled": true
   },
   "outputs": [
    {
     "data": {
      "text/html": [
       "<div>\n",
       "<style scoped>\n",
       "    .dataframe tbody tr th:only-of-type {\n",
       "        vertical-align: middle;\n",
       "    }\n",
       "\n",
       "    .dataframe tbody tr th {\n",
       "        vertical-align: top;\n",
       "    }\n",
       "\n",
       "    .dataframe thead th {\n",
       "        text-align: right;\n",
       "    }\n",
       "</style>\n",
       "<table border=\"1\" class=\"dataframe\">\n",
       "  <thead>\n",
       "    <tr style=\"text-align: right;\">\n",
       "      <th></th>\n",
       "      <th>user_id</th>\n",
       "      <th>clicks</th>\n",
       "      <th>orders</th>\n",
       "      <th>calculated</th>\n",
       "    </tr>\n",
       "  </thead>\n",
       "  <tbody>\n",
       "    <tr>\n",
       "      <th>0</th>\n",
       "      <td>1</td>\n",
       "      <td>163</td>\n",
       "      <td>2</td>\n",
       "      <td>False</td>\n",
       "    </tr>\n",
       "    <tr>\n",
       "      <th>1</th>\n",
       "      <td>2</td>\n",
       "      <td>130</td>\n",
       "      <td>4</td>\n",
       "      <td>False</td>\n",
       "    </tr>\n",
       "    <tr>\n",
       "      <th>2</th>\n",
       "      <td>3</td>\n",
       "      <td>97</td>\n",
       "      <td>0</td>\n",
       "      <td>True</td>\n",
       "    </tr>\n",
       "  </tbody>\n",
       "</table>\n",
       "</div>"
      ],
      "text/plain": [
       "   user_id  clicks  orders  calculated\n",
       "0        1     163       2       False\n",
       "1        2     130       4       False\n",
       "2        3      97       0        True"
      ]
     },
     "execution_count": 9,
     "metadata": {},
     "output_type": "execute_result"
    }
   ],
   "source": [
    "df = pd.DataFrame({'user_id': [1, 2, 3], 'clicks': [163, 130, 97], 'orders': [2, 4, 0], 'calculated': [False, False, True]})\n",
    "#df[['user_id', 'clicks', 'orders', 'calculated']]\n",
    "df"
   ]
  },
  {
   "cell_type": "code",
   "execution_count": 16,
   "metadata": {},
   "outputs": [],
   "source": [
    "def fn_watcher(param):\n",
    "    \"\"\"Мне только посмотреть\"\"\"\n",
    "    return param == 0"
   ]
  },
  {
   "cell_type": "code",
   "execution_count": 17,
   "metadata": {},
   "outputs": [
    {
     "data": {
      "text/html": [
       "<div>\n",
       "<style scoped>\n",
       "    .dataframe tbody tr th:only-of-type {\n",
       "        vertical-align: middle;\n",
       "    }\n",
       "\n",
       "    .dataframe tbody tr th {\n",
       "        vertical-align: top;\n",
       "    }\n",
       "\n",
       "    .dataframe thead th {\n",
       "        text-align: right;\n",
       "    }\n",
       "</style>\n",
       "<table border=\"1\" class=\"dataframe\">\n",
       "  <thead>\n",
       "    <tr style=\"text-align: right;\">\n",
       "      <th></th>\n",
       "      <th>user_id</th>\n",
       "      <th>clicks</th>\n",
       "      <th>orders</th>\n",
       "      <th>calculated</th>\n",
       "      <th>watcher</th>\n",
       "    </tr>\n",
       "  </thead>\n",
       "  <tbody>\n",
       "    <tr>\n",
       "      <th>0</th>\n",
       "      <td>1</td>\n",
       "      <td>163</td>\n",
       "      <td>2</td>\n",
       "      <td>False</td>\n",
       "      <td>False</td>\n",
       "    </tr>\n",
       "    <tr>\n",
       "      <th>1</th>\n",
       "      <td>2</td>\n",
       "      <td>130</td>\n",
       "      <td>4</td>\n",
       "      <td>False</td>\n",
       "      <td>False</td>\n",
       "    </tr>\n",
       "    <tr>\n",
       "      <th>2</th>\n",
       "      <td>3</td>\n",
       "      <td>97</td>\n",
       "      <td>0</td>\n",
       "      <td>True</td>\n",
       "      <td>True</td>\n",
       "    </tr>\n",
       "  </tbody>\n",
       "</table>\n",
       "</div>"
      ],
      "text/plain": [
       "   user_id  clicks  orders  calculated  watcher\n",
       "0        1     163       2       False    False\n",
       "1        2     130       4       False    False\n",
       "2        3      97       0        True     True"
      ]
     },
     "execution_count": 17,
     "metadata": {},
     "output_type": "execute_result"
    }
   ],
   "source": [
    "df['watcher'] = df['orders'].apply(fn_watcher)\n",
    "df"
   ]
  },
  {
   "cell_type": "markdown",
   "metadata": {},
   "source": [
    "Применяем метод apply к одному столбцу. Сейчас в переменную функции передаются значения одного столбца"
   ]
  },
  {
   "cell_type": "code",
   "execution_count": 36,
   "metadata": {},
   "outputs": [],
   "source": [
    "def fn_conversion(row):\n",
    "    \"\"\"Подсчет конверсии переходов в покупки\"\"\"\n",
    "    return row['orders'] / row['clicks']"
   ]
  },
  {
   "cell_type": "markdown",
   "metadata": {},
   "source": [
    "### Как потестировать функцию со значениями одной строки"
   ]
  },
  {
   "cell_type": "code",
   "execution_count": 37,
   "metadata": {},
   "outputs": [
    {
     "data": {
      "text/plain": [
       "0    0.01227\n",
       "dtype: float64"
      ]
     },
     "execution_count": 37,
     "metadata": {},
     "output_type": "execute_result"
    }
   ],
   "source": [
    "row1 = pd.DataFrame({'clicks': [163], \n",
    "                     'orders': [2], \n",
    "                     'user_id': [1]})\n",
    "row1\n",
    "fn_conversion(row1)"
   ]
  },
  {
   "cell_type": "markdown",
   "metadata": {},
   "source": [
    "Применяем метод apply к датафрейму. В переменную функции передаются строки целиком"
   ]
  },
  {
   "cell_type": "code",
   "execution_count": 41,
   "metadata": {},
   "outputs": [
    {
     "data": {
      "text/html": [
       "<div>\n",
       "<style scoped>\n",
       "    .dataframe tbody tr th:only-of-type {\n",
       "        vertical-align: middle;\n",
       "    }\n",
       "\n",
       "    .dataframe tbody tr th {\n",
       "        vertical-align: top;\n",
       "    }\n",
       "\n",
       "    .dataframe thead th {\n",
       "        text-align: right;\n",
       "    }\n",
       "</style>\n",
       "<table border=\"1\" class=\"dataframe\">\n",
       "  <thead>\n",
       "    <tr style=\"text-align: right;\">\n",
       "      <th></th>\n",
       "      <th>user_id</th>\n",
       "      <th>clicks</th>\n",
       "      <th>orders</th>\n",
       "      <th>conversion</th>\n",
       "    </tr>\n",
       "  </thead>\n",
       "  <tbody>\n",
       "    <tr>\n",
       "      <th>0</th>\n",
       "      <td>1</td>\n",
       "      <td>163</td>\n",
       "      <td>2</td>\n",
       "      <td>0.012270</td>\n",
       "    </tr>\n",
       "    <tr>\n",
       "      <th>1</th>\n",
       "      <td>2</td>\n",
       "      <td>130</td>\n",
       "      <td>4</td>\n",
       "      <td>0.030769</td>\n",
       "    </tr>\n",
       "    <tr>\n",
       "      <th>2</th>\n",
       "      <td>3</td>\n",
       "      <td>97</td>\n",
       "      <td>0</td>\n",
       "      <td>0.000000</td>\n",
       "    </tr>\n",
       "  </tbody>\n",
       "</table>\n",
       "</div>"
      ],
      "text/plain": [
       "   user_id  clicks  orders  conversion\n",
       "0        1     163       2    0.012270\n",
       "1        2     130       4    0.030769\n",
       "2        3      97       0    0.000000"
      ]
     },
     "execution_count": 41,
     "metadata": {},
     "output_type": "execute_result"
    }
   ],
   "source": [
    "df = pd.DataFrame({'user_id': [1, 2, 3], 'clicks': [163, 130, 97], 'orders': [2, 4, 0]})\n",
    "df['conversion'] = df.apply(fn_conversion, axis=1)\n",
    "df"
   ]
  },
  {
   "cell_type": "markdown",
   "metadata": {},
   "source": [
    "### Анализ рекламных кампаний"
   ]
  },
  {
   "cell_type": "code",
   "execution_count": null,
   "metadata": {},
   "outputs": [],
   "source": [
    "import pandas as pd"
   ]
  },
  {
   "cell_type": "code",
   "execution_count": 42,
   "metadata": {
    "scrolled": true
   },
   "outputs": [
    {
     "data": {
      "text/html": [
       "<div>\n",
       "<style scoped>\n",
       "    .dataframe tbody tr th:only-of-type {\n",
       "        vertical-align: middle;\n",
       "    }\n",
       "\n",
       "    .dataframe tbody tr th {\n",
       "        vertical-align: top;\n",
       "    }\n",
       "\n",
       "    .dataframe thead th {\n",
       "        text-align: right;\n",
       "    }\n",
       "</style>\n",
       "<table border=\"1\" class=\"dataframe\">\n",
       "  <thead>\n",
       "    <tr style=\"text-align: right;\">\n",
       "      <th></th>\n",
       "      <th>Название группы</th>\n",
       "      <th>Фраза (с минус-словами)</th>\n",
       "      <th>Продуктивность</th>\n",
       "      <th>ID объявления</th>\n",
       "      <th>Заголовок</th>\n",
       "      <th>Текст</th>\n",
       "      <th>Ссылка</th>\n",
       "    </tr>\n",
       "  </thead>\n",
       "  <tbody>\n",
       "    <tr>\n",
       "      <th>0</th>\n",
       "      <td>мрт менделеевская</td>\n",
       "      <td>\"!мрт !менделеевская\"</td>\n",
       "      <td>4.5</td>\n",
       "      <td>2101704995</td>\n",
       "      <td>МРТ на Менделеевской от 2000₽</td>\n",
       "      <td>24 часа. МРТ в день обращения. Консультация вр...</td>\n",
       "      <td>https://awesome-site.ru/?utm_source=yandex&amp;utm...</td>\n",
       "    </tr>\n",
       "    <tr>\n",
       "      <th>1</th>\n",
       "      <td>мрт цао</td>\n",
       "      <td>\"мрт менделеевская\"</td>\n",
       "      <td>4.5</td>\n",
       "      <td>2101704995</td>\n",
       "      <td>МРТ на Менделеевской от 2000₽</td>\n",
       "      <td>24 часа. МРТ в день обращения. Консультация вр...</td>\n",
       "      <td>https://awesome-site.ru/?utm_source=yandex&amp;utm...</td>\n",
       "    </tr>\n",
       "    <tr>\n",
       "      <th>2</th>\n",
       "      <td>мрт цао</td>\n",
       "      <td>мрт менделеевская -головы -позвоночника -сдела...</td>\n",
       "      <td>7.4</td>\n",
       "      <td>2101704995</td>\n",
       "      <td>МРТ на Менделеевской от 2000₽</td>\n",
       "      <td>24 часа. МРТ в день обращения. Консультация вр...</td>\n",
       "      <td>https://awesome-site.ru/?utm_source=yandex&amp;utm...</td>\n",
       "    </tr>\n",
       "    <tr>\n",
       "      <th>3</th>\n",
       "      <td>мрт цао</td>\n",
       "      <td>\"!мрт !цао\"</td>\n",
       "      <td>5.0</td>\n",
       "      <td>2101704999</td>\n",
       "      <td>МРТ в ЦАО от 2000₽. Звоните!</td>\n",
       "      <td>24 часа. МРТ в день обращения. Консультация вр...</td>\n",
       "      <td>https://awesome-site.ru/?utm_source=yandex&amp;utm...</td>\n",
       "    </tr>\n",
       "    <tr>\n",
       "      <th>4</th>\n",
       "      <td>мрт сао</td>\n",
       "      <td>\"мрт цао\"</td>\n",
       "      <td>5.0</td>\n",
       "      <td>2101704999</td>\n",
       "      <td>МРТ в ЦАО от 2000₽. Звоните!</td>\n",
       "      <td>24 часа. МРТ в день обращения. Консультация вр...</td>\n",
       "      <td>https://awesome-site.ru/?utm_source=yandex&amp;utm...</td>\n",
       "    </tr>\n",
       "  </tbody>\n",
       "</table>\n",
       "</div>"
      ],
      "text/plain": [
       "     Название группы                            Фраза (с минус-словами)  \\\n",
       "0  мрт менделеевская                              \"!мрт !менделеевская\"   \n",
       "1            мрт цао                                \"мрт менделеевская\"   \n",
       "2            мрт цао  мрт менделеевская -головы -позвоночника -сдела...   \n",
       "3            мрт цао                                        \"!мрт !цао\"   \n",
       "4            мрт сао                                          \"мрт цао\"   \n",
       "\n",
       "   Продуктивность  ID объявления                      Заголовок  \\\n",
       "0             4.5     2101704995  МРТ на Менделеевской от 2000₽   \n",
       "1             4.5     2101704995  МРТ на Менделеевской от 2000₽   \n",
       "2             7.4     2101704995  МРТ на Менделеевской от 2000₽   \n",
       "3             5.0     2101704999   МРТ в ЦАО от 2000₽. Звоните!   \n",
       "4             5.0     2101704999   МРТ в ЦАО от 2000₽. Звоните!   \n",
       "\n",
       "                                               Текст  \\\n",
       "0  24 часа. МРТ в день обращения. Консультация вр...   \n",
       "1  24 часа. МРТ в день обращения. Консультация вр...   \n",
       "2  24 часа. МРТ в день обращения. Консультация вр...   \n",
       "3  24 часа. МРТ в день обращения. Консультация вр...   \n",
       "4  24 часа. МРТ в день обращения. Консультация вр...   \n",
       "\n",
       "                                              Ссылка  \n",
       "0  https://awesome-site.ru/?utm_source=yandex&utm...  \n",
       "1  https://awesome-site.ru/?utm_source=yandex&utm...  \n",
       "2  https://awesome-site.ru/?utm_source=yandex&utm...  \n",
       "3  https://awesome-site.ru/?utm_source=yandex&utm...  \n",
       "4  https://awesome-site.ru/?utm_source=yandex&utm...  "
      ]
     },
     "execution_count": 42,
     "metadata": {},
     "output_type": "execute_result"
    }
   ],
   "source": [
    "stats = pd.read_excel('ml-latest-small/ad_campaigns.xlsx')\n",
    "stats.head()"
   ]
  },
  {
   "cell_type": "code",
   "execution_count": 45,
   "metadata": {
    "scrolled": true
   },
   "outputs": [
    {
     "data": {
      "text/html": [
       "<div>\n",
       "<style scoped>\n",
       "    .dataframe tbody tr th:only-of-type {\n",
       "        vertical-align: middle;\n",
       "    }\n",
       "\n",
       "    .dataframe tbody tr th {\n",
       "        vertical-align: top;\n",
       "    }\n",
       "\n",
       "    .dataframe thead th {\n",
       "        text-align: right;\n",
       "    }\n",
       "</style>\n",
       "<table border=\"1\" class=\"dataframe\">\n",
       "  <thead>\n",
       "    <tr style=\"text-align: right;\">\n",
       "      <th></th>\n",
       "      <th>group</th>\n",
       "      <th>phrase</th>\n",
       "      <th>effect</th>\n",
       "      <th>ad_id</th>\n",
       "      <th>title</th>\n",
       "      <th>text</th>\n",
       "      <th>link</th>\n",
       "    </tr>\n",
       "  </thead>\n",
       "  <tbody>\n",
       "    <tr>\n",
       "      <th>0</th>\n",
       "      <td>мрт менделеевская</td>\n",
       "      <td>\"!мрт !менделеевская\"</td>\n",
       "      <td>4.5</td>\n",
       "      <td>2101704995</td>\n",
       "      <td>МРТ на Менделеевской от 2000₽</td>\n",
       "      <td>24 часа. МРТ в день обращения. Консультация вр...</td>\n",
       "      <td>https://awesome-site.ru/?utm_source=yandex&amp;utm...</td>\n",
       "    </tr>\n",
       "    <tr>\n",
       "      <th>1</th>\n",
       "      <td>мрт цао</td>\n",
       "      <td>\"мрт менделеевская\"</td>\n",
       "      <td>4.5</td>\n",
       "      <td>2101704995</td>\n",
       "      <td>МРТ на Менделеевской от 2000₽</td>\n",
       "      <td>24 часа. МРТ в день обращения. Консультация вр...</td>\n",
       "      <td>https://awesome-site.ru/?utm_source=yandex&amp;utm...</td>\n",
       "    </tr>\n",
       "    <tr>\n",
       "      <th>2</th>\n",
       "      <td>мрт цао</td>\n",
       "      <td>мрт менделеевская -головы -позвоночника -сдела...</td>\n",
       "      <td>7.4</td>\n",
       "      <td>2101704995</td>\n",
       "      <td>МРТ на Менделеевской от 2000₽</td>\n",
       "      <td>24 часа. МРТ в день обращения. Консультация вр...</td>\n",
       "      <td>https://awesome-site.ru/?utm_source=yandex&amp;utm...</td>\n",
       "    </tr>\n",
       "    <tr>\n",
       "      <th>3</th>\n",
       "      <td>мрт цао</td>\n",
       "      <td>\"!мрт !цао\"</td>\n",
       "      <td>5.0</td>\n",
       "      <td>2101704999</td>\n",
       "      <td>МРТ в ЦАО от 2000₽. Звоните!</td>\n",
       "      <td>24 часа. МРТ в день обращения. Консультация вр...</td>\n",
       "      <td>https://awesome-site.ru/?utm_source=yandex&amp;utm...</td>\n",
       "    </tr>\n",
       "    <tr>\n",
       "      <th>4</th>\n",
       "      <td>мрт сао</td>\n",
       "      <td>\"мрт цао\"</td>\n",
       "      <td>5.0</td>\n",
       "      <td>2101704999</td>\n",
       "      <td>МРТ в ЦАО от 2000₽. Звоните!</td>\n",
       "      <td>24 часа. МРТ в день обращения. Консультация вр...</td>\n",
       "      <td>https://awesome-site.ru/?utm_source=yandex&amp;utm...</td>\n",
       "    </tr>\n",
       "  </tbody>\n",
       "</table>\n",
       "</div>"
      ],
      "text/plain": [
       "               group                                             phrase  \\\n",
       "0  мрт менделеевская                              \"!мрт !менделеевская\"   \n",
       "1            мрт цао                                \"мрт менделеевская\"   \n",
       "2            мрт цао  мрт менделеевская -головы -позвоночника -сдела...   \n",
       "3            мрт цао                                        \"!мрт !цао\"   \n",
       "4            мрт сао                                          \"мрт цао\"   \n",
       "\n",
       "   effect       ad_id                          title  \\\n",
       "0     4.5  2101704995  МРТ на Менделеевской от 2000₽   \n",
       "1     4.5  2101704995  МРТ на Менделеевской от 2000₽   \n",
       "2     7.4  2101704995  МРТ на Менделеевской от 2000₽   \n",
       "3     5.0  2101704999   МРТ в ЦАО от 2000₽. Звоните!   \n",
       "4     5.0  2101704999   МРТ в ЦАО от 2000₽. Звоните!   \n",
       "\n",
       "                                                text  \\\n",
       "0  24 часа. МРТ в день обращения. Консультация вр...   \n",
       "1  24 часа. МРТ в день обращения. Консультация вр...   \n",
       "2  24 часа. МРТ в день обращения. Консультация вр...   \n",
       "3  24 часа. МРТ в день обращения. Консультация вр...   \n",
       "4  24 часа. МРТ в день обращения. Консультация вр...   \n",
       "\n",
       "                                                link  \n",
       "0  https://awesome-site.ru/?utm_source=yandex&utm...  \n",
       "1  https://awesome-site.ru/?utm_source=yandex&utm...  \n",
       "2  https://awesome-site.ru/?utm_source=yandex&utm...  \n",
       "3  https://awesome-site.ru/?utm_source=yandex&utm...  \n",
       "4  https://awesome-site.ru/?utm_source=yandex&utm...  "
      ]
     },
     "execution_count": 45,
     "metadata": {},
     "output_type": "execute_result"
    }
   ],
   "source": [
    "stats.columns = ['group', 'phrase', 'effect', 'ad_id', 'title', 'text','link']\n",
    "stats.head()"
   ]
  },
  {
   "cell_type": "markdown",
   "metadata": {},
   "source": [
    "### Lambda-функции\n",
    "Хотим посчитать распределение количества слов в столбце с фразами"
   ]
  },
  {
   "cell_type": "code",
   "execution_count": null,
   "metadata": {},
   "outputs": [],
   "source": [
    "phrase = 'МРТ на Менделеевской от 2000'"
   ]
  },
  {
   "cell_type": "code",
   "execution_count": null,
   "metadata": {},
   "outputs": [],
   "source": [
    "phrase.split(' ')"
   ]
  },
  {
   "cell_type": "code",
   "execution_count": null,
   "metadata": {},
   "outputs": [],
   "source": [
    "len(phrase.split(' '))"
   ]
  },
  {
   "cell_type": "code",
   "execution_count": null,
   "metadata": {},
   "outputs": [],
   "source": [
    "def word_count(phrase):\n",
    "    return len(phrase.split(' '))"
   ]
  },
  {
   "cell_type": "code",
   "execution_count": null,
   "metadata": {},
   "outputs": [],
   "source": [
    "word_count('МРТ на Менделеевской от 2000')"
   ]
  },
  {
   "cell_type": "code",
   "execution_count": null,
   "metadata": {},
   "outputs": [],
   "source": [
    "word_count = lambda phrase: len(phrase.split(' '))"
   ]
  },
  {
   "cell_type": "code",
   "execution_count": null,
   "metadata": {},
   "outputs": [],
   "source": [
    "stats['word_count'] = stats['phrase'].apply(lambda word: len(word.split(' ')))\n",
    "stats.head()"
   ]
  },
  {
   "cell_type": "code",
   "execution_count": 48,
   "metadata": {},
   "outputs": [
    {
     "data": {
      "text/html": [
       "<div>\n",
       "<style scoped>\n",
       "    .dataframe tbody tr th:only-of-type {\n",
       "        vertical-align: middle;\n",
       "    }\n",
       "\n",
       "    .dataframe tbody tr th {\n",
       "        vertical-align: top;\n",
       "    }\n",
       "\n",
       "    .dataframe thead th {\n",
       "        text-align: right;\n",
       "    }\n",
       "</style>\n",
       "<table border=\"1\" class=\"dataframe\">\n",
       "  <thead>\n",
       "    <tr style=\"text-align: right;\">\n",
       "      <th></th>\n",
       "      <th>group</th>\n",
       "      <th>phrase</th>\n",
       "      <th>effect</th>\n",
       "      <th>ad_id</th>\n",
       "      <th>title</th>\n",
       "      <th>text</th>\n",
       "      <th>link</th>\n",
       "      <th>word_count</th>\n",
       "    </tr>\n",
       "  </thead>\n",
       "  <tbody>\n",
       "    <tr>\n",
       "      <th>0</th>\n",
       "      <td>мрт менделеевская</td>\n",
       "      <td>\"!мрт !менделеевская\"</td>\n",
       "      <td>4.5</td>\n",
       "      <td>2101704995</td>\n",
       "      <td>МРТ на Менделеевской от 2000₽</td>\n",
       "      <td>24 часа. МРТ в день обращения. Консультация вр...</td>\n",
       "      <td>https://awesome-site.ru/?utm_source=yandex&amp;utm...</td>\n",
       "      <td>2</td>\n",
       "    </tr>\n",
       "    <tr>\n",
       "      <th>1</th>\n",
       "      <td>мрт цао</td>\n",
       "      <td>\"мрт менделеевская\"</td>\n",
       "      <td>4.5</td>\n",
       "      <td>2101704995</td>\n",
       "      <td>МРТ на Менделеевской от 2000₽</td>\n",
       "      <td>24 часа. МРТ в день обращения. Консультация вр...</td>\n",
       "      <td>https://awesome-site.ru/?utm_source=yandex&amp;utm...</td>\n",
       "      <td>2</td>\n",
       "    </tr>\n",
       "    <tr>\n",
       "      <th>2</th>\n",
       "      <td>мрт цао</td>\n",
       "      <td>мрт менделеевская -головы -позвоночника -сдела...</td>\n",
       "      <td>7.4</td>\n",
       "      <td>2101704995</td>\n",
       "      <td>МРТ на Менделеевской от 2000₽</td>\n",
       "      <td>24 часа. МРТ в день обращения. Консультация вр...</td>\n",
       "      <td>https://awesome-site.ru/?utm_source=yandex&amp;utm...</td>\n",
       "      <td>6</td>\n",
       "    </tr>\n",
       "    <tr>\n",
       "      <th>3</th>\n",
       "      <td>мрт цао</td>\n",
       "      <td>\"!мрт !цао\"</td>\n",
       "      <td>5.0</td>\n",
       "      <td>2101704999</td>\n",
       "      <td>МРТ в ЦАО от 2000₽. Звоните!</td>\n",
       "      <td>24 часа. МРТ в день обращения. Консультация вр...</td>\n",
       "      <td>https://awesome-site.ru/?utm_source=yandex&amp;utm...</td>\n",
       "      <td>2</td>\n",
       "    </tr>\n",
       "    <tr>\n",
       "      <th>4</th>\n",
       "      <td>мрт сао</td>\n",
       "      <td>\"мрт цао\"</td>\n",
       "      <td>5.0</td>\n",
       "      <td>2101704999</td>\n",
       "      <td>МРТ в ЦАО от 2000₽. Звоните!</td>\n",
       "      <td>24 часа. МРТ в день обращения. Консультация вр...</td>\n",
       "      <td>https://awesome-site.ru/?utm_source=yandex&amp;utm...</td>\n",
       "      <td>2</td>\n",
       "    </tr>\n",
       "  </tbody>\n",
       "</table>\n",
       "</div>"
      ],
      "text/plain": [
       "               group                                             phrase  \\\n",
       "0  мрт менделеевская                              \"!мрт !менделеевская\"   \n",
       "1            мрт цао                                \"мрт менделеевская\"   \n",
       "2            мрт цао  мрт менделеевская -головы -позвоночника -сдела...   \n",
       "3            мрт цао                                        \"!мрт !цао\"   \n",
       "4            мрт сао                                          \"мрт цао\"   \n",
       "\n",
       "   effect       ad_id                          title  \\\n",
       "0     4.5  2101704995  МРТ на Менделеевской от 2000₽   \n",
       "1     4.5  2101704995  МРТ на Менделеевской от 2000₽   \n",
       "2     7.4  2101704995  МРТ на Менделеевской от 2000₽   \n",
       "3     5.0  2101704999   МРТ в ЦАО от 2000₽. Звоните!   \n",
       "4     5.0  2101704999   МРТ в ЦАО от 2000₽. Звоните!   \n",
       "\n",
       "                                                text  \\\n",
       "0  24 часа. МРТ в день обращения. Консультация вр...   \n",
       "1  24 часа. МРТ в день обращения. Консультация вр...   \n",
       "2  24 часа. МРТ в день обращения. Консультация вр...   \n",
       "3  24 часа. МРТ в день обращения. Консультация вр...   \n",
       "4  24 часа. МРТ в день обращения. Консультация вр...   \n",
       "\n",
       "                                                link  word_count  \n",
       "0  https://awesome-site.ru/?utm_source=yandex&utm...           2  \n",
       "1  https://awesome-site.ru/?utm_source=yandex&utm...           2  \n",
       "2  https://awesome-site.ru/?utm_source=yandex&utm...           6  \n",
       "3  https://awesome-site.ru/?utm_source=yandex&utm...           2  \n",
       "4  https://awesome-site.ru/?utm_source=yandex&utm...           2  "
      ]
     },
     "execution_count": 48,
     "metadata": {},
     "output_type": "execute_result"
    }
   ],
   "source": [
    "# вариант с передачей всей строчки функции\n",
    "# тут надо обязательно указать параметр axis = 1\n",
    "\n",
    "stats['word_count'] = stats.apply(lambda x: len(x['phrase'].split(' ')), axis=1)\n",
    "stats.head()"
   ]
  },
  {
   "cell_type": "markdown",
   "metadata": {},
   "source": [
    "### Упражнение\n",
    "Напишите отдельную функцию word_count, которая считает количество слов в столбце phrase. Функцию можно применять как к столбцу phrase, так и к строке целиком."
   ]
  },
  {
   "cell_type": "code",
   "execution_count": 60,
   "metadata": {},
   "outputs": [
    {
     "data": {
      "text/plain": [
       "'мрт цао'"
      ]
     },
     "execution_count": 60,
     "metadata": {},
     "output_type": "execute_result"
    }
   ],
   "source": [
    "aaa = stats['group'][3]\n",
    "aaa"
   ]
  },
  {
   "cell_type": "markdown",
   "metadata": {},
   "source": [
    "### Произвольные функции\n",
    "В URL кампаний есть названия. С этим надо что-то делать"
   ]
  },
  {
   "cell_type": "code",
   "execution_count": 49,
   "metadata": {},
   "outputs": [
    {
     "data": {
      "text/plain": [
       "3     1129\n",
       "4      529\n",
       "2      189\n",
       "5      137\n",
       "6       84\n",
       "7       38\n",
       "8       30\n",
       "9       12\n",
       "10       6\n",
       "12       2\n",
       "21       1\n",
       "17       1\n",
       "11       1\n",
       "Name: word_count, dtype: int64"
      ]
     },
     "execution_count": 49,
     "metadata": {},
     "output_type": "execute_result"
    }
   ],
   "source": [
    "# обращение к индексу и значениям Series\n",
    "res = stats.word_count.value_counts()\n",
    "res"
   ]
  },
  {
   "cell_type": "code",
   "execution_count": 62,
   "metadata": {},
   "outputs": [
    {
     "data": {
      "text/plain": [
       "3"
      ]
     },
     "execution_count": 62,
     "metadata": {},
     "output_type": "execute_result"
    }
   ],
   "source": [
    "res.index[0]"
   ]
  },
  {
   "cell_type": "code",
   "execution_count": 63,
   "metadata": {},
   "outputs": [
    {
     "data": {
      "text/plain": [
       "1129"
      ]
     },
     "execution_count": 63,
     "metadata": {},
     "output_type": "execute_result"
    }
   ],
   "source": [
    "res.values[0]"
   ]
  },
  {
   "cell_type": "code",
   "execution_count": 65,
   "metadata": {},
   "outputs": [
    {
     "data": {
      "text/plain": [
       "'https://awesome-site.ru/?utm_source=yandex&utm_medium=cpc&utm_campaign=a825749b87&utm_content=dev_{device_type}'"
      ]
     },
     "execution_count": 65,
     "metadata": {},
     "output_type": "execute_result"
    }
   ],
   "source": [
    "# пример ссылки\n",
    "url = stats.loc[0, 'link']\n",
    "url"
   ]
  },
  {
   "cell_type": "code",
   "execution_count": 66,
   "metadata": {},
   "outputs": [],
   "source": [
    "from urllib import parse"
   ]
  },
  {
   "cell_type": "code",
   "execution_count": 67,
   "metadata": {},
   "outputs": [
    {
     "data": {
      "text/plain": [
       "SplitResult(scheme='https', netloc='ya.ru', path='/news/sport', query='search=footbal', fragment='abc')"
      ]
     },
     "execution_count": 67,
     "metadata": {},
     "output_type": "execute_result"
    }
   ],
   "source": [
    "parse.urlsplit('https://ya.ru/news/sport?search=footbal#abc')"
   ]
  },
  {
   "cell_type": "code",
   "execution_count": 68,
   "metadata": {},
   "outputs": [
    {
     "data": {
      "text/plain": [
       "'ya.ru'"
      ]
     },
     "execution_count": 68,
     "metadata": {},
     "output_type": "execute_result"
    }
   ],
   "source": [
    "parse.urlsplit('https://ya.ru/news/sport?search=footbal#abc').netloc"
   ]
  },
  {
   "cell_type": "code",
   "execution_count": null,
   "metadata": {},
   "outputs": [],
   "source": [
    "parsed = parse.urlsplit(url)\n",
    "parsed"
   ]
  },
  {
   "cell_type": "code",
   "execution_count": null,
   "metadata": {},
   "outputs": [],
   "source": [
    "# можно конечно вручную\n",
    "parsed.query.split('&')[2].split('=')[1]"
   ]
  },
  {
   "cell_type": "code",
   "execution_count": null,
   "metadata": {},
   "outputs": [],
   "source": [
    "# как доставать значения\n",
    "\n",
    "parsed.netloc"
   ]
  },
  {
   "cell_type": "code",
   "execution_count": null,
   "metadata": {},
   "outputs": [],
   "source": [
    "params = parse.parse_qs(parsed.query)\n",
    "params"
   ]
  },
  {
   "cell_type": "code",
   "execution_count": null,
   "metadata": {},
   "outputs": [],
   "source": [
    "# вот и кампании\n",
    "\n",
    "params['utm_campaign'][0]"
   ]
  },
  {
   "cell_type": "code",
   "execution_count": null,
   "metadata": {},
   "outputs": [],
   "source": [
    "# зачем тут везде списки?\n",
    "\n",
    "url_with_doubles = 'https://awesome-site.ru/?a=1&a=2&a=3'\n",
    "\n",
    "parsed = parse.urlsplit(url_with_doubles)\n",
    "parse.parse_qs(parsed.query)"
   ]
  },
  {
   "cell_type": "code",
   "execution_count": null,
   "metadata": {},
   "outputs": [],
   "source": [
    "# оборачиваем все в функцию\n",
    "# в качестве аргумента будет строка датафрейма\n",
    "\n",
    "def campaign_name(row):\n",
    "    \"\"\"Получение названия кампании из ссылки внутри строки row\"\"\"\n",
    "\n",
    "    parsed = parse.urlsplit(row['link'])\n",
    "    params_dict = parse.parse_qs(parsed.query)\n",
    "\n",
    "    return params_dict['utm_campaign'][0]"
   ]
  },
  {
   "cell_type": "code",
   "execution_count": null,
   "metadata": {},
   "outputs": [],
   "source": [
    "# проверяем датафрейм\n",
    "stats.head()"
   ]
  },
  {
   "cell_type": "code",
   "execution_count": null,
   "metadata": {
    "scrolled": true
   },
   "outputs": [],
   "source": [
    "stats['campaign'] = stats.apply(campaign_name, axis=1)\n",
    "stats.head()"
   ]
  },
  {
   "cell_type": "markdown",
   "metadata": {},
   "source": [
    "### Как передать в функцию несколько аргументов"
   ]
  },
  {
   "cell_type": "code",
   "execution_count": null,
   "metadata": {},
   "outputs": [],
   "source": [
    "# как передать несколько аргументов\n",
    "\n",
    "def power_up(row, n):\n",
    "    \"\"\"Возводит значение столбца effect в степень n\"\"\"\n",
    "    return row['effect'] ** n"
   ]
  },
  {
   "cell_type": "code",
   "execution_count": null,
   "metadata": {},
   "outputs": [],
   "source": [
    "stats['power_up'] = stats.apply(power_up, n=2, axis=1)\n",
    "stats.head()"
   ]
  },
  {
   "cell_type": "markdown",
   "metadata": {},
   "source": [
    "### Упражнение\n",
    "В наших данных есть много объявлений с услугой МРТ (в столбце group есть слово 'мрт') круглосуточно (в тексте объявления text есть '24 часа'). Отфильтруйте строки, в которых НЕ упоминается МРТ, но прием идет круглосуточно. Сколько таких строк в датасете?"
   ]
  },
  {
   "cell_type": "code",
   "execution_count": null,
   "metadata": {},
   "outputs": [],
   "source": [
    "def mrt(row):\n",
    "    if ('мрт' not in row['group']) and ('24 часа' in row['text']):\n",
    "        return True\n",
    "    \n",
    "    return False"
   ]
  },
  {
   "cell_type": "code",
   "execution_count": null,
   "metadata": {},
   "outputs": [],
   "source": [
    "stats['mrt'] = stats.apply(mrt, axis=1)"
   ]
  },
  {
   "cell_type": "code",
   "execution_count": null,
   "metadata": {},
   "outputs": [],
   "source": [
    "stats.head()"
   ]
  },
  {
   "cell_type": "code",
   "execution_count": null,
   "metadata": {},
   "outputs": [],
   "source": [
    "stats.mrt.value_counts()"
   ]
  },
  {
   "cell_type": "markdown",
   "metadata": {},
   "source": [
    "# Группировки"
   ]
  },
  {
   "cell_type": "code",
   "execution_count": null,
   "metadata": {
    "scrolled": true
   },
   "outputs": [],
   "source": [
    "df = pd.DataFrame({'order_id': [1, 2, 3, 4, 5], 'country': ['Россия', 'Китай', 'Китай', 'Россия', 'Россия'], \n",
    "                   'category': ['Электроника', 'Авто', 'Электроника', 'Авто', 'Авто'], \n",
    "                   'amount': [100, 80, 90, 140, 90]})\n",
    "df"
   ]
  },
  {
   "cell_type": "markdown",
   "metadata": {},
   "source": [
    "Создадим датафрейм df_russia, в котором оставим заказы из России. И аналогично df_china (заказы из Китая)."
   ]
  },
  {
   "cell_type": "code",
   "execution_count": null,
   "metadata": {},
   "outputs": [],
   "source": [
    "df_russia = df[df.country == 'Россия']\n",
    "df_russia"
   ]
  },
  {
   "cell_type": "code",
   "execution_count": null,
   "metadata": {},
   "outputs": [],
   "source": [
    "df_china = df[df.country == 'Китай']\n",
    "df_china"
   ]
  },
  {
   "cell_type": "code",
   "execution_count": null,
   "metadata": {},
   "outputs": [],
   "source": []
  },
  {
   "cell_type": "markdown",
   "metadata": {},
   "source": [
    "Посчитаем для df_russia и df_china:\n",
    "- среднюю стоимость заказа\n",
    "- разницу между максимальной и минимальной стоимостью заказа"
   ]
  },
  {
   "cell_type": "code",
   "execution_count": null,
   "metadata": {
    "scrolled": true
   },
   "outputs": [],
   "source": [
    "df_russia.amount.mean()"
   ]
  },
  {
   "cell_type": "code",
   "execution_count": null,
   "metadata": {},
   "outputs": [],
   "source": [
    "df_china.amount.mean()"
   ]
  },
  {
   "cell_type": "code",
   "execution_count": null,
   "metadata": {},
   "outputs": [],
   "source": [
    "df_russia.amount.max() - df_russia.amount.min()"
   ]
  },
  {
   "cell_type": "code",
   "execution_count": null,
   "metadata": {},
   "outputs": [],
   "source": [
    "df_china.amount.max() - df_china.amount.min()"
   ]
  },
  {
   "cell_type": "markdown",
   "metadata": {},
   "source": [
    "Объединим процесс разбиения на датафреймы"
   ]
  },
  {
   "cell_type": "code",
   "execution_count": null,
   "metadata": {},
   "outputs": [],
   "source": [
    "def groupby_function(data):\n",
    "    return data.amount.max() - data.amount.min()"
   ]
  },
  {
   "cell_type": "code",
   "execution_count": null,
   "metadata": {
    "scrolled": true
   },
   "outputs": [],
   "source": [
    "df.groupby('country').apply(groupby_function)"
   ]
  },
  {
   "cell_type": "markdown",
   "metadata": {},
   "source": [
    "Вернемся к статистике рекламных кампаний"
   ]
  },
  {
   "cell_type": "code",
   "execution_count": null,
   "metadata": {},
   "outputs": [],
   "source": [
    "# раньше использовали value_counts\n",
    "\n",
    "stats['campaign'].value_counts().head()"
   ]
  },
  {
   "cell_type": "code",
   "execution_count": null,
   "metadata": {
    "scrolled": false
   },
   "outputs": [],
   "source": [
    "# более универсальный способ\n",
    "\n",
    "stats.groupby('campaign').count().head()"
   ]
  },
  {
   "cell_type": "code",
   "execution_count": null,
   "metadata": {},
   "outputs": [],
   "source": [
    "stats.head()"
   ]
  },
  {
   "cell_type": "code",
   "execution_count": null,
   "metadata": {},
   "outputs": [],
   "source": [
    "stats.groupby('campaign').count()[['group', 'effect']].head()"
   ]
  },
  {
   "cell_type": "markdown",
   "metadata": {},
   "source": [
    "### Как вернуть столбец из индекса - метод reset_index()"
   ]
  },
  {
   "cell_type": "code",
   "execution_count": null,
   "metadata": {
    "scrolled": true
   },
   "outputs": [],
   "source": [
    "stats.groupby('campaign').count().reset_index().head()"
   ]
  },
  {
   "cell_type": "markdown",
   "metadata": {},
   "source": [
    "### К группировке можно применять разные функции такие образом:"
   ]
  },
  {
   "cell_type": "code",
   "execution_count": null,
   "metadata": {},
   "outputs": [],
   "source": [
    "obj = stats.groupby('campaign')"
   ]
  },
  {
   "cell_type": "code",
   "execution_count": null,
   "metadata": {},
   "outputs": [],
   "source": [
    "type(obj)"
   ]
  },
  {
   "cell_type": "code",
   "execution_count": null,
   "metadata": {
    "scrolled": true
   },
   "outputs": [],
   "source": [
    "obj.max().head()"
   ]
  },
  {
   "cell_type": "code",
   "execution_count": null,
   "metadata": {
    "scrolled": true
   },
   "outputs": [],
   "source": [
    "obj.mean().head()"
   ]
  },
  {
   "cell_type": "markdown",
   "metadata": {},
   "source": [
    "### Несколько функций в группировках"
   ]
  },
  {
   "cell_type": "code",
   "execution_count": null,
   "metadata": {},
   "outputs": [],
   "source": [
    "# задаем несколько функций сразу\n",
    "\n",
    "stats.groupby('campaign').agg(['min', 'max'])['effect'].head()"
   ]
  },
  {
   "cell_type": "code",
   "execution_count": null,
   "metadata": {},
   "outputs": [],
   "source": [
    "# разные метрики для разных столбцов\n",
    "\n",
    "results = stats.groupby('campaign').agg({'effect': ['min', 'max'], 'power_up': 'mean'})\n",
    "results.head()"
   ]
  },
  {
   "cell_type": "markdown",
   "metadata": {},
   "source": [
    "### Как обращаться к вложенным столбцам"
   ]
  },
  {
   "cell_type": "code",
   "execution_count": null,
   "metadata": {},
   "outputs": [],
   "source": [
    "results['effect']['max'].head()"
   ]
  },
  {
   "cell_type": "code",
   "execution_count": null,
   "metadata": {},
   "outputs": [],
   "source": [
    "# или даже так\n",
    "stats.groupby('campaign').agg({'effect': ['min', 'max'], 'power_up': 'mean'})['effect']['max'].head()"
   ]
  },
  {
   "cell_type": "code",
   "execution_count": null,
   "metadata": {},
   "outputs": [],
   "source": [
    "# группировка по нескольким столбцам\n",
    "\n",
    "stats.groupby(['group', 'campaign']).count().head()"
   ]
  },
  {
   "cell_type": "code",
   "execution_count": null,
   "metadata": {},
   "outputs": [],
   "source": [
    "# максимальное число объявлений в одной группе\n",
    "\n",
    "stats.groupby(['group', 'campaign']).count().sort_values('phrase', ascending=False).head()"
   ]
  }
 ],
 "metadata": {
  "kernelspec": {
   "display_name": "Python 3",
   "language": "python",
   "name": "python3"
  },
  "language_info": {
   "codemirror_mode": {
    "name": "ipython",
    "version": 3
   },
   "file_extension": ".py",
   "mimetype": "text/x-python",
   "name": "python",
   "nbconvert_exporter": "python",
   "pygments_lexer": "ipython3",
   "version": "3.8.3"
  }
 },
 "nbformat": 4,
 "nbformat_minor": 2
}
