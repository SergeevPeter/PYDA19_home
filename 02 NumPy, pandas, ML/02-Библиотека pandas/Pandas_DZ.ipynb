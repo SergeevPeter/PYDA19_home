{
 "cells": [
  {
   "cell_type": "markdown",
   "metadata": {},
   "source": [
    "## Задание 1\n",
    "Скачайте с сайта https://grouplens.org/datasets/movielens/ датасет любого размера. Определите какому фильму было выставлено больше всего оценок 5.0."
   ]
  },
  {
   "cell_type": "code",
   "execution_count": 24,
   "metadata": {},
   "outputs": [
    {
     "data": {
      "text/html": [
       "<div>\n",
       "<style scoped>\n",
       "    .dataframe tbody tr th:only-of-type {\n",
       "        vertical-align: middle;\n",
       "    }\n",
       "\n",
       "    .dataframe tbody tr th {\n",
       "        vertical-align: top;\n",
       "    }\n",
       "\n",
       "    .dataframe thead th {\n",
       "        text-align: right;\n",
       "    }\n",
       "</style>\n",
       "<table border=\"1\" class=\"dataframe\">\n",
       "  <thead>\n",
       "    <tr style=\"text-align: right;\">\n",
       "      <th></th>\n",
       "      <th>userId</th>\n",
       "      <th>movieId</th>\n",
       "      <th>rating</th>\n",
       "      <th>timestamp</th>\n",
       "    </tr>\n",
       "  </thead>\n",
       "  <tbody>\n",
       "    <tr>\n",
       "      <th>0</th>\n",
       "      <td>1</td>\n",
       "      <td>31</td>\n",
       "      <td>2.5</td>\n",
       "      <td>1260759144</td>\n",
       "    </tr>\n",
       "    <tr>\n",
       "      <th>1</th>\n",
       "      <td>1</td>\n",
       "      <td>1029</td>\n",
       "      <td>3.0</td>\n",
       "      <td>1260759179</td>\n",
       "    </tr>\n",
       "    <tr>\n",
       "      <th>2</th>\n",
       "      <td>1</td>\n",
       "      <td>1061</td>\n",
       "      <td>3.0</td>\n",
       "      <td>1260759182</td>\n",
       "    </tr>\n",
       "    <tr>\n",
       "      <th>3</th>\n",
       "      <td>1</td>\n",
       "      <td>1129</td>\n",
       "      <td>2.0</td>\n",
       "      <td>1260759185</td>\n",
       "    </tr>\n",
       "    <tr>\n",
       "      <th>4</th>\n",
       "      <td>1</td>\n",
       "      <td>1172</td>\n",
       "      <td>4.0</td>\n",
       "      <td>1260759205</td>\n",
       "    </tr>\n",
       "    <tr>\n",
       "      <th>5</th>\n",
       "      <td>1</td>\n",
       "      <td>1263</td>\n",
       "      <td>2.0</td>\n",
       "      <td>1260759151</td>\n",
       "    </tr>\n",
       "    <tr>\n",
       "      <th>6</th>\n",
       "      <td>1</td>\n",
       "      <td>1287</td>\n",
       "      <td>2.0</td>\n",
       "      <td>1260759187</td>\n",
       "    </tr>\n",
       "    <tr>\n",
       "      <th>7</th>\n",
       "      <td>1</td>\n",
       "      <td>1293</td>\n",
       "      <td>2.0</td>\n",
       "      <td>1260759148</td>\n",
       "    </tr>\n",
       "    <tr>\n",
       "      <th>8</th>\n",
       "      <td>1</td>\n",
       "      <td>1339</td>\n",
       "      <td>3.5</td>\n",
       "      <td>1260759125</td>\n",
       "    </tr>\n",
       "    <tr>\n",
       "      <th>9</th>\n",
       "      <td>1</td>\n",
       "      <td>1343</td>\n",
       "      <td>2.0</td>\n",
       "      <td>1260759131</td>\n",
       "    </tr>\n",
       "  </tbody>\n",
       "</table>\n",
       "</div>"
      ],
      "text/plain": [
       "   userId  movieId  rating   timestamp\n",
       "0       1       31     2.5  1260759144\n",
       "1       1     1029     3.0  1260759179\n",
       "2       1     1061     3.0  1260759182\n",
       "3       1     1129     2.0  1260759185\n",
       "4       1     1172     4.0  1260759205\n",
       "5       1     1263     2.0  1260759151\n",
       "6       1     1287     2.0  1260759187\n",
       "7       1     1293     2.0  1260759148\n",
       "8       1     1339     3.5  1260759125\n",
       "9       1     1343     2.0  1260759131"
      ]
     },
     "execution_count": 24,
     "metadata": {},
     "output_type": "execute_result"
    }
   ],
   "source": [
    "import pandas as pd\n",
    "ds1 = pd.read_csv('ml-latest-small/ratings.csv')\n",
    "ds1.head(10)"
   ]
  },
  {
   "cell_type": "code",
   "execution_count": 25,
   "metadata": {},
   "outputs": [
    {
     "data": {
      "text/plain": [
       "'Итого = [318]'"
      ]
     },
     "execution_count": 25,
     "metadata": {},
     "output_type": "execute_result"
    }
   ],
   "source": [
    "ds2 = ds1[ds1['rating']==5]\n",
    "ds3 = ds2.groupby('movieId').agg(['count'])['userId'].reset_index()\\\n",
    "        .sort_values('count', ascending=False).head(1)\n",
    "ds4 = str(ds3['movieId'].unique())\n",
    "\n",
    "\n",
    "f'Итого = {ds4}'"
   ]
  },
  {
   "cell_type": "markdown",
   "metadata": {},
   "source": [
    "## Задание 2\n",
    "По данным файла power.csv посчитайте суммарное потребление стран Прибалтики (Латвия, Литва и Эстония) категорий 4, 12 и 21 за период с 2005 по 2010 года. Не учитывайте в расчетах отрицательные значения quantity."
   ]
  },
  {
   "cell_type": "code",
   "execution_count": 26,
   "metadata": {},
   "outputs": [
    {
     "data": {
      "text/html": [
       "<div>\n",
       "<style scoped>\n",
       "    .dataframe tbody tr th:only-of-type {\n",
       "        vertical-align: middle;\n",
       "    }\n",
       "\n",
       "    .dataframe tbody tr th {\n",
       "        vertical-align: top;\n",
       "    }\n",
       "\n",
       "    .dataframe thead th {\n",
       "        text-align: right;\n",
       "    }\n",
       "</style>\n",
       "<table border=\"1\" class=\"dataframe\">\n",
       "  <thead>\n",
       "    <tr style=\"text-align: right;\">\n",
       "      <th></th>\n",
       "      <th>country</th>\n",
       "      <th>year</th>\n",
       "      <th>quantity</th>\n",
       "      <th>category</th>\n",
       "    </tr>\n",
       "  </thead>\n",
       "  <tbody>\n",
       "    <tr>\n",
       "      <th>0</th>\n",
       "      <td>Austria</td>\n",
       "      <td>1996</td>\n",
       "      <td>5.0</td>\n",
       "      <td>1</td>\n",
       "    </tr>\n",
       "    <tr>\n",
       "      <th>1</th>\n",
       "      <td>Austria</td>\n",
       "      <td>1995</td>\n",
       "      <td>17.0</td>\n",
       "      <td>1</td>\n",
       "    </tr>\n",
       "    <tr>\n",
       "      <th>2</th>\n",
       "      <td>Belgium</td>\n",
       "      <td>2014</td>\n",
       "      <td>0.0</td>\n",
       "      <td>1</td>\n",
       "    </tr>\n",
       "    <tr>\n",
       "      <th>3</th>\n",
       "      <td>Belgium</td>\n",
       "      <td>2013</td>\n",
       "      <td>0.0</td>\n",
       "      <td>1</td>\n",
       "    </tr>\n",
       "    <tr>\n",
       "      <th>4</th>\n",
       "      <td>Belgium</td>\n",
       "      <td>2012</td>\n",
       "      <td>35.0</td>\n",
       "      <td>1</td>\n",
       "    </tr>\n",
       "  </tbody>\n",
       "</table>\n",
       "</div>"
      ],
      "text/plain": [
       "   country  year  quantity  category\n",
       "0  Austria  1996       5.0         1\n",
       "1  Austria  1995      17.0         1\n",
       "2  Belgium  2014       0.0         1\n",
       "3  Belgium  2013       0.0         1\n",
       "4  Belgium  2012      35.0         1"
      ]
     },
     "execution_count": 26,
     "metadata": {},
     "output_type": "execute_result"
    }
   ],
   "source": [
    "import pandas as pd\n",
    "data = pd.read_csv('ml-latest-small/power.csv')\n",
    "data.head()"
   ]
  },
  {
   "cell_type": "code",
   "execution_count": 27,
   "metadata": {},
   "outputs": [
    {
     "data": {
      "text/plain": [
       "'Итого = 240481.0'"
      ]
     },
     "execution_count": 27,
     "metadata": {},
     "output_type": "execute_result"
    }
   ],
   "source": [
    "data4 = data[ (\n",
    "    (data['country']=='Latvia') \\\n",
    "             | (data['country']=='Lithuania') \\\n",
    "             | (data['country']=='Estonia') \n",
    "    ) &\n",
    "    ((data['category']==4) \\\n",
    "             | (data['category']==12) \\\n",
    "             | (data['category']==21) \n",
    "    ) &\n",
    "    ((data['year']==2005) \\\n",
    "             | (data['year']==2006) \\\n",
    "             | (data['year']==2007) \\\n",
    "             | (data['year']==2008)  \\\n",
    "             | (data['year']==2009) \\\n",
    "             | (data['year']==2010) \n",
    "    ) &\n",
    "    data['quantity'] > 0\n",
    "    ]\n",
    "# data4[['country', 'category', 'year']].nunique()\n",
    "\n",
    "var1_ = data4['quantity'].sum()\n",
    "\n",
    "f'Итого = {var1_}'"
   ]
  },
  {
   "cell_type": "markdown",
   "metadata": {},
   "source": [
    "## Задание 3\n",
    "Выберите страницу любого сайта с табличными данными. Импортируйте таблицы в pandas dataframe.\n",
    "Примеры страниц (необязательно брать именно эти):\n",
    "https://fortrader.org/quotes\n",
    "https://www.finanz.ru/valyuty/v-realnom-vremeni"
   ]
  },
  {
   "cell_type": "code",
   "execution_count": 23,
   "metadata": {},
   "outputs": [
    {
     "data": {
      "text/plain": [
       "[    Unnamed: 0              Рубль  Предложение  Спрос  Предыдущее закрытие  \\\n",
       " 0          NaN            GBP/RUB      1062283      -              1063354   \n",
       " 1          NaN            EUR/RUB       920725      -               921465   \n",
       " 2          NaN            USD/RUB       773262      -               774495   \n",
       " 3          NaN            JPY/RUB        07065      -                07072   \n",
       " 4          NaN            CNY/RUB       118074      -               118381   \n",
       " 5          NaN            CHF/RUB       838122      -               838500   \n",
       " 6          NaN               Евро  Предложение  Спрос  Предыдущее закрытие   \n",
       " 7          NaN            EUR/USD        11908      -                11899   \n",
       " 8          NaN            EUR/GBP        08667      -                08682   \n",
       " 9          NaN            EUR/JPY      1303130      -              1305100   \n",
       " 10         NaN            EUR/CHF        10986      -                11000   \n",
       " 11         NaN         Доллар США  Предложение  Спрос  Предыдущее закрытие   \n",
       " 12         NaN            USD/EUR        08400      -                08404   \n",
       " 13         NaN            USD/GBP        07280      -                07295   \n",
       " 14         NaN            USD/JPY      1094540      -              1097300   \n",
       " 15         NaN            USD/CHF        09228      -                09252   \n",
       " 16         NaN      Японская иена  Предложение  Спрос  Предыдущее закрытие   \n",
       " 17         NaN    JPY/EUR (100:1)        07700      -                07700   \n",
       " 18         NaN            JPY/GBP        00067      -                00067   \n",
       " 19         NaN            JPY/USD        00091      -                00091   \n",
       " 20         NaN    JPY/CHF (100:1)        08400      -                08400   \n",
       " 21         NaN    Фунт стерлингов  Предложение  Спрос  Предыдущее закрытие   \n",
       " 22         NaN            GBP/USD        13737      -                13705   \n",
       " 23         NaN            GBP/JPY      1503570      -              1503713   \n",
       " 24         NaN            GBP/EUR        11537      -                11519   \n",
       " 25         NaN            GBP/CHF        12674      -                12682   \n",
       " 26         NaN  Швейцарский франк  Предложение  Спрос  Предыдущее закрытие   \n",
       " 27         NaN            GBP/CHF        12674      -                12682   \n",
       " 28         NaN            EUR/CHF        10986      -                11000   \n",
       " 29         NaN    JPY/CHF (100:1)        08400      -                08400   \n",
       " 30         NaN            USD/CHF        09228      -                09252   \n",
       " 31         NaN  Украинская гривна  Предложение  Спрос  Предыдущее закрытие   \n",
       " 32         NaN            EUR/UAH       333069      -               331309   \n",
       " 33         NaN            USD/UAH       279761      -               278434   \n",
       " 34         NaN            CHF/UAH       303198      -               300959   \n",
       " 35         NaN            GBP/UAH       384335      -               381664   \n",
       " \n",
       "           %  Абсолютное значение     Время  \n",
       " 0   -0,10 %               -01071  21:27:00  \n",
       " 1   -0,08 %               -00740  21:27:00  \n",
       " 2   -0,16 %               -01233  21:27:00  \n",
       " 3   -0,10 %               -00007  21:27:00  \n",
       " 4   -0,26 %               -00308  21:27:00  \n",
       " 5   -0,05 %               -00378  21:27:00  \n",
       " 6         %  Абсолютное значение     Время  \n",
       " 7    0,07 %                00009  21:27:00  \n",
       " 8   -0,18 %               -00016  21:27:00  \n",
       " 9   -0,15 %               -01970  21:27:00  \n",
       " 10  -0,13 %               -00014  21:27:00  \n",
       " 11        %  Абсолютное значение     Время  \n",
       " 12  -0,05 %               -00005  21:27:00  \n",
       " 13  -0,21 %               -00015  21:27:00  \n",
       " 14  -0,25 %               -02760  21:27:00  \n",
       " 15  -0,25 %               -00024  21:27:00  \n",
       " 16        %  Абсолютное значение     Время  \n",
       " 17   0,15 %                00000  21:27:00  \n",
       " 18   0,01 %                00000  21:27:00  \n",
       " 19   0,22 %                00000  21:27:00  \n",
       " 20  -0,03 %                00000  21:27:00  \n",
       " 21        %  Абсолютное значение     Время  \n",
       " 22   0,23 %                00032  21:27:00  \n",
       " 23  -0,01 %               -00144  21:27:00  \n",
       " 24   0,16 %                00018  21:27:00  \n",
       " 25  -0,06 %               -00008  21:27:00  \n",
       " 26        %  Абсолютное значение     Время  \n",
       " 27  -0,06 %               -00008  21:27:00  \n",
       " 28  -0,13 %               -00014  21:27:00  \n",
       " 29  -0,03 %                00000  21:27:00  \n",
       " 30  -0,25 %               -00024  21:27:00  \n",
       " 31        %  Абсолютное значение     Время  \n",
       " 32   0,53 %                01760  21:26:00  \n",
       " 33   0,48 %                01327  21:27:00  \n",
       " 34   0,74 %                02239  21:27:00  \n",
       " 35   0,70 %                02671  21:27:00  ]"
      ]
     },
     "execution_count": 23,
     "metadata": {},
     "output_type": "execute_result"
    }
   ],
   "source": [
    "url1 = 'https://www.finanz.ru/valyuty/v-realnom-vremeni'\n",
    "url2 = pd.read_html(url1, attrs = {'class': 'quote_list'}, encoding='utf-8')\n",
    "url2"
   ]
  },
  {
   "cell_type": "code",
   "execution_count": null,
   "metadata": {},
   "outputs": [],
   "source": []
  }
 ],
 "metadata": {
  "kernelspec": {
   "display_name": "Python 3",
   "language": "python",
   "name": "python3"
  },
  "language_info": {
   "codemirror_mode": {
    "name": "ipython",
    "version": 3
   },
   "file_extension": ".py",
   "mimetype": "text/x-python",
   "name": "python",
   "nbconvert_exporter": "python",
   "pygments_lexer": "ipython3",
   "version": "3.8.3"
  }
 },
 "nbformat": 4,
 "nbformat_minor": 4
}
