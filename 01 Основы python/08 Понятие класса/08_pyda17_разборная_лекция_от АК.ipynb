{
 "cells": [
  {
   "cell_type": "code",
   "execution_count": null,
   "metadata": {
    "colab": {},
    "colab_type": "code",
    "id": "c-xNxKIK0vaD"
   },
   "outputs": [],
   "source": [
    "СЛОВАРЬ: ключ -> значение\n",
    "МАССИВ: список (коллекция)"
   ]
  },
  {
   "cell_type": "code",
   "execution_count": null,
   "metadata": {
    "colab": {},
    "colab_type": "code",
    "id": "FVF5zgf_9AJb"
   },
   "outputs": [],
   "source": [
    "import time"
   ]
  },
  {
   "cell_type": "code",
   "execution_count": 1,
   "metadata": {
    "colab": {},
    "colab_type": "code",
    "id": "ltW5piry4Dec"
   },
   "outputs": [],
   "source": [
    "GUESTS = []"
   ]
  },
  {
   "cell_type": "code",
   "execution_count": 2,
   "metadata": {
    "colab": {},
    "colab_type": "code",
    "id": "eOiChwID4I3V"
   },
   "outputs": [],
   "source": [
    "GUESTS.append({'name': 'Василий', 'email': 'vasya@ya.ru', 'title': 'Mr.'})\n",
    "GUESTS.append({'name': 'Ирина', 'email': 'irina@ya.ru', 'title': 'Mrs.'})\n",
    "GUESTS.append({'name': 'Ольга', 'email': 'olga@ya.ru', 'title': 'Ms.'})"
   ]
  },
  {
   "cell_type": "code",
   "execution_count": 3,
   "metadata": {
    "colab": {
     "base_uri": "https://localhost:8080/",
     "height": 90
    },
    "colab_type": "code",
    "id": "0pUpZNEX4Y7y",
    "outputId": "722c5294-16f0-443a-d744-464d12e89047"
   },
   "outputs": [
    {
     "data": {
      "text/plain": [
       "[{'name': 'Василий', 'email': 'vasya@ya.ru', 'title': 'Mr.'},\n",
       " {'name': 'Ирина', 'email': 'irina@ya.ru', 'title': 'Mrs.'},\n",
       " {'name': 'Ольга', 'email': 'olga@ya.ru', 'title': 'Ms.'}]"
      ]
     },
     "execution_count": 3,
     "metadata": {},
     "output_type": "execute_result"
    }
   ],
   "source": [
    "GUESTS"
   ]
  },
  {
   "cell_type": "code",
   "execution_count": null,
   "metadata": {
    "colab": {
     "base_uri": "https://localhost:8080/",
     "height": 90
    },
    "colab_type": "code",
    "id": "rKBVnv614aGm",
    "outputId": "54b5bfd1-312c-47f2-87ad-1db86bd5e8d8"
   },
   "outputs": [],
   "source": [
    "for i, g in enumerate(GUESTS):\n",
    "  print('{}. {} ({})'.format(i, g['name'], g['email']))"
   ]
  },
  {
   "cell_type": "code",
   "execution_count": null,
   "metadata": {
    "colab": {},
    "colab_type": "code",
    "id": "yuTcalxs4py3"
   },
   "outputs": [],
   "source": [
    "GUESTS.append({'name': 'Иван', 'email': 'ivan@ya.ru', 'title': 'Mr.'})"
   ]
  },
  {
   "cell_type": "code",
   "execution_count": null,
   "metadata": {
    "colab": {
     "base_uri": "https://localhost:8080/",
     "height": 108
    },
    "colab_type": "code",
    "id": "rA6jUJHF4vTj",
    "outputId": "04eb630b-593f-499f-d62c-41fcbec15bfd"
   },
   "outputs": [],
   "source": [
    "for i, g in enumerate(GUESTS):\n",
    "  print('{}. {} ({})'.format(i, g['name'], g['email']))"
   ]
  },
  {
   "cell_type": "code",
   "execution_count": null,
   "metadata": {
    "colab": {
     "base_uri": "https://localhost:8080/",
     "height": 125
    },
    "colab_type": "code",
    "id": "NcSriATx4xJk",
    "outputId": "82703a18-f760-445d-dc92-2a324ed4994a"
   },
   "outputs": [],
   "source": [
    "print(\"\"\"\n",
    "to: {}\n",
    "Дорогой, {} {}!\n",
    "Приглашаем тебя на праздник тогда-то и там-то\n",
    "\"\"\".format(GUESTS[0]['email'], GUESTS[0]['title'], GUESTS[0]['name']))"
   ]
  },
  {
   "cell_type": "code",
   "execution_count": null,
   "metadata": {
    "colab": {
     "base_uri": "https://localhost:8080/",
     "height": 125
    },
    "colab_type": "code",
    "id": "zGV6Q_-Z5DEF",
    "outputId": "d59127d5-5d58-4571-e4c1-0911cb488ec9"
   },
   "outputs": [],
   "source": [
    "print(\"\"\"\n",
    "to: {}\n",
    "Дорогой, {} {}!\n",
    "Приглашаем тебя на праздник тогда-то и там-то\n",
    "\"\"\".format(GUESTS[2]['email'], GUESTS[2]['title'], GUESTS[2]['name']))"
   ]
  },
  {
   "cell_type": "code",
   "execution_count": 4,
   "metadata": {
    "colab": {},
    "colab_type": "code",
    "id": "XWBg4bYz5WyE"
   },
   "outputs": [],
   "source": [
    "def print_list(var):\n",
    "  for i, g in enumerate(GUESTS):\n",
    "    print('{}. {} ({})'.format(i, g['name'], g['email']))"
   ]
  },
  {
   "cell_type": "code",
   "execution_count": 7,
   "metadata": {
    "colab": {},
    "colab_type": "code",
    "id": "sN11Ztu371c2"
   },
   "outputs": [],
   "source": [
    "def add_guest(name, email, title):\n",
    "  GUESTS.append({\n",
    "      'name': name,\n",
    "      'email': email,\n",
    "      'title': title})"
   ]
  },
  {
   "cell_type": "code",
   "execution_count": null,
   "metadata": {
    "colab": {},
    "colab_type": "code",
    "id": "GdZPO_YT9VMY"
   },
   "outputs": [],
   "source": [
    "def check_has_guest(email):\n",
    "  for g in GUESTS:\n",
    "    if g['email'] == email:\n",
    "      return True\n",
    "    \n",
    "  return False"
   ]
  },
  {
   "cell_type": "code",
   "execution_count": null,
   "metadata": {
    "colab": {
     "base_uri": "https://localhost:8080/",
     "height": 72
    },
    "colab_type": "code",
    "id": "LfWmhGut92Fy",
    "outputId": "cb376777-7258-4be8-885a-99bafd3de442"
   },
   "outputs": [],
   "source": [
    "check_has_guest('vasya@ya.ru')"
   ]
  },
  {
   "cell_type": "code",
   "execution_count": 8,
   "metadata": {
    "colab": {},
    "colab_type": "code",
    "id": "u3F4tt3x8o17"
   },
   "outputs": [],
   "source": [
    "add_guest('Полина', 'polina@ya.ru', 'Mrs.')"
   ]
  },
  {
   "cell_type": "code",
   "execution_count": 9,
   "metadata": {
    "colab": {
     "base_uri": "https://localhost:8080/",
     "height": 160
    },
    "colab_type": "code",
    "id": "bXeupBp6579w",
    "outputId": "f26f5eeb-8aea-4b14-eb4c-dea4de9d7c87"
   },
   "outputs": [
    {
     "name": "stdout",
     "output_type": "stream",
     "text": [
      "0. Василий (vasya@ya.ru)\n",
      "1. Ирина (irina@ya.ru)\n",
      "2. Ольга (olga@ya.ru)\n",
      "3. Полина (polina@ya.ru)\n"
     ]
    }
   ],
   "source": [
    "print_list(GUESTS)"
   ]
  },
  {
   "cell_type": "code",
   "execution_count": null,
   "metadata": {
    "colab": {},
    "colab_type": "code",
    "id": "1Xf3kcjM7mXu"
   },
   "outputs": [],
   "source": []
  },
  {
   "cell_type": "code",
   "execution_count": 18,
   "metadata": {
    "colab": {},
    "colab_type": "code",
    "id": "K89TQxeSBIWR"
   },
   "outputs": [],
   "source": [
    "class GuestsList:\n",
    "  def __init__(self):\n",
    "    self.guests = []\n",
    "\n",
    "  def print_(self):\n",
    "    for i, g in enumerate(self.guests):\n",
    "      print('{}. {} ({})'.format(i, g['name'], g['email']))\n",
    "\n",
    "  def add(self, name, email, title):\n",
    "    self.guests.append({\n",
    "      'name': name,\n",
    "      'email': email,\n",
    "      'title': title})\n",
    "\n",
    "  def check_has(self, email):\n",
    "    for g in self.guests:\n",
    "      if g['email'] == email:\n",
    "        return True\n",
    "    \n",
    "    return False"
   ]
  },
  {
   "cell_type": "code",
   "execution_count": 19,
   "metadata": {
    "colab": {},
    "colab_type": "code",
    "id": "DpdIiI-CEI2w"
   },
   "outputs": [],
   "source": [
    "gl = GuestsList()"
   ]
  },
  {
   "cell_type": "code",
   "execution_count": 21,
   "metadata": {
    "colab": {},
    "colab_type": "code",
    "id": "Rw_Iqv4GB7Ro"
   },
   "outputs": [],
   "source": [
    "gl.print_()"
   ]
  },
  {
   "cell_type": "code",
   "execution_count": 22,
   "metadata": {
    "colab": {},
    "colab_type": "code",
    "id": "pkt8nTufB9qn"
   },
   "outputs": [],
   "source": [
    "gl.add('Вася', 'vasya@ya.ru', 'mr.')"
   ]
  },
  {
   "cell_type": "code",
   "execution_count": 23,
   "metadata": {
    "colab": {
     "base_uri": "https://localhost:8080/",
     "height": 55
    },
    "colab_type": "code",
    "id": "fOR9a72VCBSQ",
    "outputId": "8a6c7d69-cee7-455a-9478-125583b65bda"
   },
   "outputs": [
    {
     "name": "stdout",
     "output_type": "stream",
     "text": [
      "0. Вася (vasya@ya.ru)\n"
     ]
    }
   ],
   "source": [
    "gl.print_()"
   ]
  },
  {
   "cell_type": "code",
   "execution_count": null,
   "metadata": {
    "colab": {},
    "colab_type": "code",
    "id": "r3sabjLTCB6a"
   },
   "outputs": [],
   "source": [
    "gl_for_work = GuestsList()"
   ]
  },
  {
   "cell_type": "code",
   "execution_count": null,
   "metadata": {
    "colab": {},
    "colab_type": "code",
    "id": "deoxafqjCEoA"
   },
   "outputs": [],
   "source": [
    "gl_for_work.print()"
   ]
  },
  {
   "cell_type": "code",
   "execution_count": null,
   "metadata": {
    "colab": {},
    "colab_type": "code",
    "id": "iY2P2x9rCGGc"
   },
   "outputs": [],
   "source": [
    "gl_for_work.add('Петя', 'petya@ya.ru', 'mr.')"
   ]
  },
  {
   "cell_type": "code",
   "execution_count": null,
   "metadata": {
    "colab": {
     "base_uri": "https://localhost:8080/",
     "height": 55
    },
    "colab_type": "code",
    "id": "IDaP216aCKCE",
    "outputId": "b67848c0-2e60-41f7-aceb-c274bb9b4c59"
   },
   "outputs": [],
   "source": [
    "gl_for_work.print()"
   ]
  },
  {
   "cell_type": "code",
   "execution_count": 24,
   "metadata": {
    "colab": {},
    "colab_type": "code",
    "id": "JjWmeNKnCLxT"
   },
   "outputs": [],
   "source": [
    "class Guest:\n",
    "  def __init__(self, name, email, title):\n",
    "    self.name = name\n",
    "    self.email = email\n",
    "    self.title = title\n",
    "\n",
    "  def __str__(self):\n",
    "    return \"{} {}({})\".format(self.title, self.name, self.email)\n",
    "\n",
    "  def print_letter(self):\n",
    "    print(\"Привет, {}! Приходи на праздник\".format(self.name))\n",
    "\n",
    "  def print_beautifull(self):\n",
    "    print(\"{} {}({})\".format(self.title, self.name, self.email))\n",
    "\n",
    "  def short_description(self):\n",
    "    return \"{}({})\".format(self.name,  self.email)"
   ]
  },
  {
   "cell_type": "code",
   "execution_count": null,
   "metadata": {
    "colab": {},
    "colab_type": "code",
    "id": "Ej_uAJFjF-ey"
   },
   "outputs": [],
   "source": [
    "class GuestsList:\n",
    "  def __init__(self):\n",
    "    self.guests = []\n",
    "\n",
    "  def print(self):\n",
    "    for i, g in enumerate(self.guests):\n",
    "      print('{}. {} ({})'.format(i, g.short_description()))\n",
    "\n",
    "  def add(self, guest):\n",
    "    self.guests.append(guest)\n",
    "\n",
    "  def check_has(self, email):\n",
    "    for g in self.guests:\n",
    "      if g.email == email:\n",
    "        return True\n",
    "    \n",
    "    return False"
   ]
  },
  {
   "cell_type": "code",
   "execution_count": null,
   "metadata": {
    "colab": {},
    "colab_type": "code",
    "id": "be4AZoPxGIL0"
   },
   "outputs": [],
   "source": [
    "gl = GuestsList()"
   ]
  },
  {
   "cell_type": "code",
   "execution_count": null,
   "metadata": {
    "colab": {},
    "colab_type": "code",
    "id": "ycnycqUoGKAq"
   },
   "outputs": [],
   "source": [
    "gl.add(Guest('Вася', 'vasya@ya.ru', 'Mr.'))"
   ]
  },
  {
   "cell_type": "code",
   "execution_count": null,
   "metadata": {
    "colab": {
     "base_uri": "https://localhost:8080/",
     "height": 55
    },
    "colab_type": "code",
    "id": "Aicj2EuZGOPq",
    "outputId": "61c1782c-f820-4320-86ee-85231a95c47c"
   },
   "outputs": [],
   "source": [
    "gl.print()"
   ]
  },
  {
   "cell_type": "code",
   "execution_count": null,
   "metadata": {
    "colab": {
     "base_uri": "https://localhost:8080/",
     "height": 55
    },
    "colab_type": "code",
    "id": "BtoaBdq7GO41",
    "outputId": "4cb9f9b2-c853-4aad-ddf9-e1a405e38507"
   },
   "outputs": [],
   "source": [
    "gl.guests[0].print_letter()"
   ]
  },
  {
   "cell_type": "code",
   "execution_count": null,
   "metadata": {
    "colab": {},
    "colab_type": "code",
    "id": "-P3K2HVRHCTz"
   },
   "outputs": [],
   "source": [
    "class WorkGuest(Guest):\n",
    "  def __init__(self, name, email, title, department):\n",
    "    super().__init__(name, email, title)\n",
    "    self.department = department\n",
    "\n",
    "  def print_letter(self):\n",
    "    print(\"Привет, коллега {} из департамента {}! Приходи на праздник\".format(self.name, self.department))"
   ]
  },
  {
   "cell_type": "code",
   "execution_count": null,
   "metadata": {
    "colab": {},
    "colab_type": "code",
    "id": "J8onscChHlOr"
   },
   "outputs": [],
   "source": [
    "gl.add(WorkGuest('Вася', 'vasya@ya.ru', 'Mr.', 'Юридический'))"
   ]
  },
  {
   "cell_type": "code",
   "execution_count": null,
   "metadata": {
    "colab": {
     "base_uri": "https://localhost:8080/",
     "height": 72
    },
    "colab_type": "code",
    "id": "5nl_kjFuHo3U",
    "outputId": "8e290d15-57a3-490e-ee1d-3b78eb940466"
   },
   "outputs": [],
   "source": [
    "gl.guests[3].print_letter()"
   ]
  },
  {
   "cell_type": "code",
   "execution_count": null,
   "metadata": {
    "colab": {},
    "colab_type": "code",
    "id": "DNqW6soOHqId"
   },
   "outputs": [],
   "source": [
    "g = Guest(\"Петя\", 'petya@ya.ru', 'mr')"
   ]
  },
  {
   "cell_type": "code",
   "execution_count": null,
   "metadata": {
    "colab": {
     "base_uri": "https://localhost:8080/",
     "height": 55
    },
    "colab_type": "code",
    "id": "Gn7Xbr7cLtYH",
    "outputId": "826b15b2-d90a-48e8-82bd-272df24ae6cb"
   },
   "outputs": [],
   "source": [
    "print(g)"
   ]
  },
  {
   "cell_type": "code",
   "execution_count": null,
   "metadata": {
    "colab": {},
    "colab_type": "code",
    "id": "__Gt_7ubLuEl"
   },
   "outputs": [],
   "source": []
  }
 ],
 "metadata": {
  "colab": {
   "name": "Untitled32.ipynb",
   "provenance": []
  },
  "kernelspec": {
   "display_name": "Python 3",
   "language": "python",
   "name": "python3"
  },
  "language_info": {
   "codemirror_mode": {
    "name": "ipython",
    "version": 3
   },
   "file_extension": ".py",
   "mimetype": "text/x-python",
   "name": "python",
   "nbconvert_exporter": "python",
   "pygments_lexer": "ipython3",
   "version": "3.8.3"
  }
 },
 "nbformat": 4,
 "nbformat_minor": 1
}
