{
 "cells": [
  {
   "cell_type": "code",
   "execution_count": 1,
   "metadata": {
    "colab": {
     "base_uri": "https://localhost:8080/",
     "height": 55
    },
    "id": "MkUneu8z0sVA",
    "outputId": "a44dbe4a-0966-4f34-e44f-f48a179652eb"
   },
   "outputs": [
    {
     "name": "stdout",
     "output_type": "stream",
     "text": [
      "Age after 10 years 20\n"
     ]
    }
   ],
   "source": [
    "age = 10\n",
    "age_after_10_years = age + 10\n",
    "print(\"Age after 10 years\", age_after_10_years)"
   ]
  },
  {
   "cell_type": "code",
   "execution_count": 11,
   "metadata": {
    "colab": {
     "base_uri": "https://localhost:8080/",
     "height": 55
    },
    "id": "MuA78qXY7t00",
    "outputId": "0f6a84f2-1730-474e-9c1f-7458d76d24d1"
   },
   "outputs": [
    {
     "name": "stdout",
     "output_type": "stream",
     "text": [
      "Alexey Kuzmin\n"
     ]
    }
   ],
   "source": [
    "name = 'Alexey'\n",
    "family = 'Kuzmin'\n",
    "surname = ''\n",
    "\n",
    "if surname != '':\n",
    "  fullname = name + ' '\n",
    "  fullname = fullname + surname\n",
    "  fullname = fullname + ' '\n",
    "  fullname += family\n",
    "else:\n",
    "  fullname = name + ' ' + family\n",
    "\n",
    "print(fullname)"
   ]
  },
  {
   "cell_type": "code",
   "execution_count": 21,
   "metadata": {
    "colab": {
     "base_uri": "https://localhost:8080/",
     "height": 688
    },
    "id": "W7Pb8aRV8mR-",
    "outputId": "84a54311-eac3-4afd-a42e-e8c89fa98804"
   },
   "outputs": [
    {
     "name": "stdout",
     "output_type": "stream",
     "text": [
      "Candle\n",
      "Candle\n",
      "Candle\n",
      "Candle\n",
      "!!!!!!!!!!\n",
      "Candle\n",
      "Candle\n",
      "Candle\n",
      "Candle\n",
      "!!!!!!!!!!\n",
      "Candle\n",
      "Candle\n",
      "Candle\n",
      "Candle\n",
      "!!!!!!!!!!\n",
      "That's all, folks!\n"
     ]
    }
   ],
   "source": [
    "age = 16\n",
    "candles_count =  20\n",
    "printed_count = 0\n",
    "\n",
    "while printed_count < age:\n",
    "  printed_count = printed_count + 1\n",
    "\n",
    "  if printed_count % 4 == 0:\n",
    "    continue\n",
    "\n",
    "  print(\"Candle\")\n",
    "  if printed_count % 5 == 0:\n",
    "    print(\"!\"*10)\n",
    "  \n",
    "print(\"That's all, folks!\")"
   ]
  },
  {
   "cell_type": "code",
   "execution_count": null,
   "metadata": {
    "id": "nVsHMr3RDYXk"
   },
   "outputs": [],
   "source": [
    "import random"
   ]
  },
  {
   "cell_type": "code",
   "execution_count": null,
   "metadata": {
    "colab": {
     "base_uri": "https://localhost:8080/",
     "height": 55
    },
    "id": "6TitvaXNDby6",
    "outputId": "8d874ac7-29ab-47fc-fddc-fa6774190f51"
   },
   "outputs": [
    {
     "data": {
      "text/plain": [
       "0.9510708090868143"
      ]
     },
     "execution_count": 5,
     "metadata": {
      "tags": []
     },
     "output_type": "execute_result"
    }
   ],
   "source": [
    "random.random()"
   ]
  },
  {
   "cell_type": "code",
   "execution_count": null,
   "metadata": {
    "colab": {
     "base_uri": "https://localhost:8080/",
     "height": 284
    },
    "id": "OkG3eC8s_k-D",
    "outputId": "7c20cc25-dc8b-4cd9-a524-6028046fd9a5"
   },
   "outputs": [
    {
     "name": "stdout",
     "output_type": "stream",
     "text": [
      "Not lucky\n",
      "Not lucky\n",
      "Not lucky\n",
      "Not lucky\n",
      "Not lucky\n",
      "Not lucky\n",
      "Not lucky\n",
      "Not lucky\n",
      "Not lucky\n",
      "Not lucky\n",
      "Not lucky\n",
      "Not lucky\n",
      "Not lucky\n",
      "Not lucky\n"
     ]
    }
   ],
   "source": [
    "\n",
    "\n",
    "\n",
    "while True:\n",
    "  print(\"Not lucky\")\n",
    "  if random.random() > 0.9:\n",
    "    break"
   ]
  },
  {
   "cell_type": "code",
   "execution_count": null,
   "metadata": {
    "id": "16qzm2AZDhoQ"
   },
   "outputs": [],
   "source": [
    "a = 'apple'"
   ]
  },
  {
   "cell_type": "code",
   "execution_count": 17,
   "metadata": {
    "id": "vaX41TedD96P"
   },
   "outputs": [],
   "source": [
    "shopping_list = ['apple', 'banana', 'milk']"
   ]
  },
  {
   "cell_type": "code",
   "execution_count": 18,
   "metadata": {
    "colab": {
     "base_uri": "https://localhost:8080/",
     "height": 55
    },
    "id": "3uWvVBfRERDE",
    "outputId": "2f852b19-7176-4cf4-896c-a0a38db0feeb"
   },
   "outputs": [
    {
     "name": "stdout",
     "output_type": "stream",
     "text": [
      "['apple', 'banana', 'milk']\n"
     ]
    }
   ],
   "source": [
    "print(shopping_list)"
   ]
  },
  {
   "cell_type": "code",
   "execution_count": 19,
   "metadata": {
    "id": "PjcQ3pQGEbdb"
   },
   "outputs": [],
   "source": [
    "shopping_list.append('tomatos')"
   ]
  },
  {
   "cell_type": "code",
   "execution_count": null,
   "metadata": {
    "colab": {
     "base_uri": "https://localhost:8080/",
     "height": 55
    },
    "id": "qPpT4Hp1Ejva",
    "outputId": "e94f3b2e-1623-4f15-d262-a2813275a80e"
   },
   "outputs": [
    {
     "name": "stdout",
     "output_type": "stream",
     "text": [
      "['apple', 'banana', 'milk', 'tomatos']\n"
     ]
    }
   ],
   "source": [
    "print(shopping_list)"
   ]
  },
  {
   "cell_type": "code",
   "execution_count": null,
   "metadata": {
    "colab": {
     "base_uri": "https://localhost:8080/",
     "height": 55
    },
    "id": "nTJfY049ElJZ",
    "outputId": "e065958e-63bb-4925-dfcd-9243db58563a"
   },
   "outputs": [
    {
     "data": {
      "text/plain": [
       "'milk'"
      ]
     },
     "execution_count": 14,
     "metadata": {
      "tags": []
     },
     "output_type": "execute_result"
    }
   ],
   "source": [
    "shopping_list[2]"
   ]
  },
  {
   "cell_type": "code",
   "execution_count": null,
   "metadata": {
    "id": "Aa6EUsWcE2r7"
   },
   "outputs": [],
   "source": [
    "shopping_list[2] = 'juice'"
   ]
  },
  {
   "cell_type": "code",
   "execution_count": null,
   "metadata": {
    "colab": {
     "base_uri": "https://localhost:8080/",
     "height": 55
    },
    "id": "b6cg9Vb2E63n",
    "outputId": "a96b1ee3-d944-46c7-c32c-af374ff56a9d"
   },
   "outputs": [
    {
     "name": "stdout",
     "output_type": "stream",
     "text": [
      "['apple', 'banana', 'juice', 'tomatos']\n"
     ]
    }
   ],
   "source": [
    "print(shopping_list)"
   ]
  },
  {
   "cell_type": "code",
   "execution_count": null,
   "metadata": {
    "id": "dXYggy7kE9LM"
   },
   "outputs": [],
   "source": [
    "shopping_list.append(5)"
   ]
  },
  {
   "cell_type": "code",
   "execution_count": null,
   "metadata": {
    "colab": {
     "base_uri": "https://localhost:8080/",
     "height": 55
    },
    "id": "RrIxJtdlFH7h",
    "outputId": "7f868bbb-7e3d-4532-bab7-95d7801db342"
   },
   "outputs": [
    {
     "name": "stdout",
     "output_type": "stream",
     "text": [
      "['apple', 'banana', 'juice', 'tomatos', 5]\n"
     ]
    }
   ],
   "source": [
    "print(shopping_list)"
   ]
  },
  {
   "cell_type": "code",
   "execution_count": null,
   "metadata": {
    "colab": {
     "base_uri": "https://localhost:8080/",
     "height": 55
    },
    "id": "iH-cXVKWFJHu",
    "outputId": "a889be9c-0497-4fd7-f905-2c9ab3ffc121"
   },
   "outputs": [
    {
     "data": {
      "text/plain": [
       "5"
      ]
     },
     "execution_count": 20,
     "metadata": {
      "tags": []
     },
     "output_type": "execute_result"
    }
   ],
   "source": [
    "len(shopping_list)"
   ]
  },
  {
   "cell_type": "code",
   "execution_count": null,
   "metadata": {
    "colab": {
     "base_uri": "https://localhost:8080/",
     "height": 55
    },
    "id": "_EcShfUxFWJt",
    "outputId": "0ed24024-6c02-4d8a-c256-1fdeb58b11ab"
   },
   "outputs": [
    {
     "data": {
      "text/plain": [
       "'tomatos'"
      ]
     },
     "execution_count": 21,
     "metadata": {
      "tags": []
     },
     "output_type": "execute_result"
    }
   ],
   "source": [
    "shopping_list[3]"
   ]
  },
  {
   "cell_type": "code",
   "execution_count": null,
   "metadata": {
    "colab": {
     "base_uri": "https://localhost:8080/",
     "height": 55
    },
    "id": "XdojkyC-Fda4",
    "outputId": "4c4ae4ba-4a8d-4085-8ced-d1ff592500b7"
   },
   "outputs": [
    {
     "data": {
      "text/plain": [
       "False"
      ]
     },
     "execution_count": 23,
     "metadata": {
      "tags": []
     },
     "output_type": "execute_result"
    }
   ],
   "source": [
    "'orange' in shopping_list"
   ]
  },
  {
   "cell_type": "code",
   "execution_count": null,
   "metadata": {
    "colab": {
     "base_uri": "https://localhost:8080/",
     "height": 55
    },
    "id": "lFYesgxvGI5a",
    "outputId": "e42ffa14-d6d5-472d-ec87-da895ab28b56"
   },
   "outputs": [
    {
     "data": {
      "text/plain": [
       "1"
      ]
     },
     "execution_count": 24,
     "metadata": {
      "tags": []
     },
     "output_type": "execute_result"
    }
   ],
   "source": [
    "shopping_list.index('banana')"
   ]
  },
  {
   "cell_type": "code",
   "execution_count": null,
   "metadata": {
    "id": "TY3bMjiaGSro"
   },
   "outputs": [],
   "source": [
    "shopping_list = {'apple': 5, 'banana': 2, 'milk': 1}"
   ]
  },
  {
   "cell_type": "code",
   "execution_count": null,
   "metadata": {
    "colab": {
     "base_uri": "https://localhost:8080/",
     "height": 55
    },
    "id": "jLDvQIXmG_sF",
    "outputId": "560165bb-e588-463c-8b6f-56c4d14f6f45"
   },
   "outputs": [
    {
     "data": {
      "text/plain": [
       "{'apple': 5, 'banana': 2, 'milk': 1}"
      ]
     },
     "execution_count": 26,
     "metadata": {
      "tags": []
     },
     "output_type": "execute_result"
    }
   ],
   "source": [
    "shopping_list"
   ]
  },
  {
   "cell_type": "code",
   "execution_count": null,
   "metadata": {
    "colab": {
     "base_uri": "https://localhost:8080/",
     "height": 55
    },
    "id": "XFXTfyHVHBnR",
    "outputId": "bf374fa8-1666-4a44-851c-363c6d8ee678"
   },
   "outputs": [
    {
     "data": {
      "text/plain": [
       "3"
      ]
     },
     "execution_count": 30,
     "metadata": {
      "tags": []
     },
     "output_type": "execute_result"
    }
   ],
   "source": [
    "shopping_list['banana']"
   ]
  },
  {
   "cell_type": "code",
   "execution_count": null,
   "metadata": {
    "id": "-ASbPAU2HKpr"
   },
   "outputs": [],
   "source": [
    "shopping_list['mango'] = 1"
   ]
  },
  {
   "cell_type": "code",
   "execution_count": null,
   "metadata": {
    "colab": {
     "base_uri": "https://localhost:8080/",
     "height": 55
    },
    "id": "54I3CAQRHQ2r",
    "outputId": "0714063b-9a93-4373-a836-028db0861b34"
   },
   "outputs": [
    {
     "data": {
      "text/plain": [
       "{'apple': 5, 'banana': 3, 'mango': 1, 'milk': 1}"
      ]
     },
     "execution_count": 32,
     "metadata": {
      "tags": []
     },
     "output_type": "execute_result"
    }
   ],
   "source": [
    "shopping_list"
   ]
  },
  {
   "cell_type": "code",
   "execution_count": null,
   "metadata": {
    "colab": {
     "base_uri": "https://localhost:8080/",
     "height": 55
    },
    "id": "8NW9BmeTHS-H",
    "outputId": "a24d6188-227a-4056-8159-1f8658ae46f2"
   },
   "outputs": [
    {
     "data": {
      "text/plain": [
       "5"
      ]
     },
     "execution_count": 33,
     "metadata": {
      "tags": []
     },
     "output_type": "execute_result"
    }
   ],
   "source": [
    "shopping_list['apple']"
   ]
  },
  {
   "cell_type": "code",
   "execution_count": null,
   "metadata": {
    "colab": {
     "base_uri": "https://localhost:8080/",
     "height": 55
    },
    "id": "TjVd-otwHfr4",
    "outputId": "ed030698-9288-40f8-ad74-f7f2f04906b6"
   },
   "outputs": [
    {
     "data": {
      "text/plain": [
       "True"
      ]
     },
     "execution_count": 34,
     "metadata": {
      "tags": []
     },
     "output_type": "execute_result"
    }
   ],
   "source": [
    "'apple' in shopping_list"
   ]
  },
  {
   "cell_type": "code",
   "execution_count": 32,
   "metadata": {
    "id": "L7wznwqgIA95"
   },
   "outputs": [],
   "source": [
    "shop_l = ['apple', 'banana', 'juice', 'tomatos']"
   ]
  },
  {
   "cell_type": "code",
   "execution_count": 37,
   "metadata": {},
   "outputs": [
    {
     "data": {
      "text/plain": [
       "4"
      ]
     },
     "execution_count": 37,
     "metadata": {},
     "output_type": "execute_result"
    }
   ],
   "source": [
    "len(shop_l)"
   ]
  },
  {
   "cell_type": "markdown",
   "metadata": {},
   "source": [
    "# Циклы "
   ]
  },
  {
   "cell_type": "code",
   "execution_count": 41,
   "metadata": {
    "colab": {
     "base_uri": "https://localhost:8080/",
     "height": 108
    },
    "id": "VSdeyXV4IM5U",
    "outputId": "34cb0023-5b67-4022-e467-79756c60c182"
   },
   "outputs": [
    {
     "name": "stdout",
     "output_type": "stream",
     "text": [
      "apple\n",
      "banana\n",
      "juice\n",
      "tomatos\n"
     ]
    }
   ],
   "source": [
    "printed = 0\n",
    "while printed < len(shop_l):\n",
    "  print(shop_l[printed])\n",
    "  printed += 1"
   ]
  },
  {
   "cell_type": "code",
   "execution_count": 42,
   "metadata": {
    "colab": {
     "base_uri": "https://localhost:8080/",
     "height": 108
    },
    "id": "GiilnzWrIVa_",
    "outputId": "3e13baac-67dd-45a5-a313-96549124217f"
   },
   "outputs": [
    {
     "name": "stdout",
     "output_type": "stream",
     "text": [
      "apple\n",
      "banana\n",
      "juice\n",
      "tomatos\n"
     ]
    }
   ],
   "source": [
    "for el in shop_l:\n",
    "  print(el)"
   ]
  },
  {
   "cell_type": "code",
   "execution_count": 43,
   "metadata": {
    "colab": {
     "base_uri": "https://localhost:8080/",
     "height": 108
    },
    "id": "87ISWiikIbwe",
    "outputId": "d35537ad-c373-4d5b-b15e-f623eea60ec4"
   },
   "outputs": [
    {
     "name": "stdout",
     "output_type": "stream",
     "text": [
      "0 apple\n",
      "1 banana\n",
      "2 juice\n",
      "3 tomatos\n"
     ]
    }
   ],
   "source": [
    "printed = 0\n",
    "while printed < len(shop_l):\n",
    "  el = shop_l[printed]\n",
    "  print(printed, shop_l[printed])\n",
    "  printed += 1"
   ]
  },
  {
   "cell_type": "code",
   "execution_count": 57,
   "metadata": {
    "colab": {
     "base_uri": "https://localhost:8080/",
     "height": 108
    },
    "id": "C-5S2DFUJZfE",
    "outputId": "69a90bed-693b-492c-ea0b-769e45e16829"
   },
   "outputs": [
    {
     "name": "stdout",
     "output_type": "stream",
     "text": [
      "0 apple\n",
      "1 banana\n",
      "2 juice\n",
      "3 tomatos\n"
     ]
    }
   ],
   "source": [
    "for i, el in enumerate(shop_l):\n",
    "  print(i, el)"
   ]
  },
  {
   "cell_type": "markdown",
   "metadata": {},
   "source": [
    "# Словарь (dictionaries)"
   ]
  },
  {
   "cell_type": "code",
   "execution_count": 47,
   "metadata": {
    "id": "KEIoP77rJvwK"
   },
   "outputs": [],
   "source": [
    "test = {'Alexey': [1, {'Apple': 2} ,3], 'Vasya': 5}"
   ]
  },
  {
   "cell_type": "code",
   "execution_count": 51,
   "metadata": {
    "colab": {
     "base_uri": "https://localhost:8080/",
     "height": 55
    },
    "id": "qum6ugs2KADK",
    "outputId": "64cc3968-5b55-4c4a-cefc-6f6a3d255ca1"
   },
   "outputs": [
    {
     "data": {
      "text/plain": [
       "{'Apple': 2}"
      ]
     },
     "execution_count": 51,
     "metadata": {},
     "output_type": "execute_result"
    }
   ],
   "source": [
    "test['Alexey'][1]"
   ]
  },
  {
   "cell_type": "code",
   "execution_count": 52,
   "metadata": {
    "colab": {
     "base_uri": "https://localhost:8080/",
     "height": 72
    },
    "id": "s351J23bKC05",
    "outputId": "63f6efb2-be84-46a4-cbea-82032a60a6a2"
   },
   "outputs": [
    {
     "name": "stdout",
     "output_type": "stream",
     "text": [
      "('Alexey', [1, {'Apple': 2}, 3])\n",
      "('Vasya', 5)\n"
     ]
    }
   ],
   "source": [
    "for k in test.items():\n",
    "  print(k)"
   ]
  },
  {
   "cell_type": "code",
   "execution_count": 53,
   "metadata": {
    "colab": {
     "base_uri": "https://localhost:8080/",
     "height": 55
    },
    "id": "xv166Mm5Kgqx",
    "outputId": "76bd62f0-65a6-424b-8b98-278d7150f928"
   },
   "outputs": [
    {
     "data": {
      "text/plain": [
       "{'Alexey': [1, {'Apple': 2}, 3], 'Vasya': 5}"
      ]
     },
     "execution_count": 53,
     "metadata": {},
     "output_type": "execute_result"
    }
   ],
   "source": [
    "test"
   ]
  },
  {
   "cell_type": "code",
   "execution_count": 54,
   "metadata": {
    "colab": {
     "base_uri": "https://localhost:8080/",
     "height": 188
    },
    "id": "JT-gpLyuKvFD",
    "outputId": "5eaa25bb-95b9-42ab-ce33-96b62f9699aa"
   },
   "outputs": [
    {
     "ename": "KeyError",
     "evalue": "'Petya'",
     "output_type": "error",
     "traceback": [
      "\u001b[1;31m---------------------------------------------------------------------------\u001b[0m",
      "\u001b[1;31mKeyError\u001b[0m                                  Traceback (most recent call last)",
      "\u001b[1;32m<ipython-input-54-df6632bf56f8>\u001b[0m in \u001b[0;36m<module>\u001b[1;34m\u001b[0m\n\u001b[1;32m----> 1\u001b[1;33m \u001b[0mtest\u001b[0m\u001b[1;33m[\u001b[0m\u001b[1;34m'Petya'\u001b[0m\u001b[1;33m]\u001b[0m\u001b[1;33m\u001b[0m\u001b[1;33m\u001b[0m\u001b[0m\n\u001b[0m",
      "\u001b[1;31mKeyError\u001b[0m: 'Petya'"
     ]
    }
   ],
   "source": [
    "test['Petya']"
   ]
  },
  {
   "cell_type": "code",
   "execution_count": 58,
   "metadata": {
    "colab": {
     "base_uri": "https://localhost:8080/",
     "height": 55
    },
    "id": "7OKHZMyxLPa-",
    "outputId": "4877f8d9-68da-49bb-8ae1-9868fc3459fe"
   },
   "outputs": [
    {
     "data": {
      "text/plain": [
       "'нет ключа'"
      ]
     },
     "execution_count": 58,
     "metadata": {},
     "output_type": "execute_result"
    }
   ],
   "source": [
    "# обработка ошибки\n",
    "test.get('Petya', 'нет ключа')"
   ]
  },
  {
   "cell_type": "code",
   "execution_count": null,
   "metadata": {
    "colab": {
     "base_uri": "https://localhost:8080/",
     "height": 55
    },
    "id": "BwrxZ3J6LYxc",
    "outputId": "5fb10cdb-d3ba-41bf-bd0f-c2507b267d70"
   },
   "outputs": [
    {
     "data": {
      "text/plain": [
       "{'Alexey': [1, {'Apple': 2}, 3], 'Vasya': 5}"
      ]
     },
     "execution_count": 60,
     "metadata": {
      "tags": []
     },
     "output_type": "execute_result"
    }
   ],
   "source": [
    "test"
   ]
  },
  {
   "cell_type": "code",
   "execution_count": null,
   "metadata": {
    "colab": {
     "base_uri": "https://localhost:8080/",
     "height": 90
    },
    "id": "I-XO3ZqELfll",
    "outputId": "f68d80ed-8de2-4389-a0a2-c82c3efc3cad"
   },
   "outputs": [
    {
     "name": "stdout",
     "output_type": "stream",
     "text": [
      "Apple 2\n",
      "Alexey\n",
      "Vasya\n"
     ]
    }
   ],
   "source": [
    "for k, v in test.items():\n",
    "  if type(v) == list:\n",
    "    for el in v:\n",
    "      if type(el) == dict:\n",
    "        for k2, v2 in el.items():\n",
    "          print(k2, v2)\n",
    "  print(k)"
   ]
  },
  {
   "cell_type": "code",
   "execution_count": null,
   "metadata": {
    "id": "GcMhMgskNnG_"
   },
   "outputs": [],
   "source": [
    "value = [2,3,4,5]\n",
    "docs_input = 3"
   ]
  },
  {
   "cell_type": "code",
   "execution_count": null,
   "metadata": {
    "id": "puB7744SMO4r"
   },
   "outputs": [],
   "source": [
    "for elem in value:\n",
    "  if elem == docs_input:\n",
    "    value.remove(elem)"
   ]
  },
  {
   "cell_type": "code",
   "execution_count": null,
   "metadata": {
    "colab": {
     "base_uri": "https://localhost:8080/",
     "height": 55
    },
    "id": "j4Sb36UWNq0J",
    "outputId": "2d1c1267-dc6f-4385-ef54-5ba5dc1e49a3"
   },
   "outputs": [
    {
     "data": {
      "text/plain": [
       "[2, 4, 5]"
      ]
     },
     "execution_count": 72,
     "metadata": {
      "tags": []
     },
     "output_type": "execute_result"
    }
   ],
   "source": [
    "value"
   ]
  },
  {
   "cell_type": "code",
   "execution_count": 20,
   "metadata": {
    "colab": {
     "base_uri": "https://localhost:8080/",
     "height": 55
    },
    "id": "qpmR5EZpN4_E",
    "outputId": "894f2b9d-7f54-4658-f72d-2821f2e42646"
   },
   "outputs": [
    {
     "name": "stdout",
     "output_type": "stream",
     "text": [
      "Candle !!!!!!!!\n"
     ]
    }
   ],
   "source": [
    "count = 8\n",
    "print(\"Candle\", \"!\"*count)"
   ]
  },
  {
   "cell_type": "markdown",
   "metadata": {},
   "source": [
    "# Функции "
   ]
  },
  {
   "cell_type": "code",
   "execution_count": 64,
   "metadata": {
    "id": "RHXTPBo2Onl0"
   },
   "outputs": [],
   "source": [
    "def fn_print_candle(count):\n",
    "  if count > 10:\n",
    "    count = 10\n",
    "  print(\"Candle:\", \"$\"*count)"
   ]
  },
  {
   "cell_type": "code",
   "execution_count": 65,
   "metadata": {
    "colab": {
     "base_uri": "https://localhost:8080/",
     "height": 90
    },
    "id": "7Vf-McUHO0pf",
    "outputId": "2e92560d-8364-4938-f803-5cf8e06594fd"
   },
   "outputs": [
    {
     "name": "stdout",
     "output_type": "stream",
     "text": [
      "Candle: $$$$\n",
      "Candle: $$$$$\n",
      "Candle: $$$$$$$$$$\n"
     ]
    }
   ],
   "source": [
    "fn_print_candle(4)\n",
    "fn_print_candle(5)\n",
    "fn_print_candle(30)"
   ]
  },
  {
   "cell_type": "code",
   "execution_count": 68,
   "metadata": {
    "id": "sEN8jW9HPjaK"
   },
   "outputs": [],
   "source": [
    "def fn_max(a,b):\n",
    "  return (a if a > b else b)\n",
    "  print(\"Vasya\")"
   ]
  },
  {
   "cell_type": "code",
   "execution_count": 69,
   "metadata": {
    "colab": {
     "base_uri": "https://localhost:8080/",
     "height": 55
    },
    "id": "Aa0DO9bYP87y",
    "outputId": "14a68345-1d3d-49be-e068-bdabec8e84e6"
   },
   "outputs": [
    {
     "data": {
      "text/plain": [
       "5"
      ]
     },
     "execution_count": 69,
     "metadata": {},
     "output_type": "execute_result"
    }
   ],
   "source": [
    "fn_max(4,5)"
   ]
  }
 ],
 "metadata": {
  "colab": {
   "name": "Untitled30.ipynb",
   "provenance": []
  },
  "kernelspec": {
   "display_name": "Python 3",
   "language": "python",
   "name": "python3"
  },
  "language_info": {
   "codemirror_mode": {
    "name": "ipython",
    "version": 3
   },
   "file_extension": ".py",
   "mimetype": "text/x-python",
   "name": "python",
   "nbconvert_exporter": "python",
   "pygments_lexer": "ipython3",
   "version": "3.8.3"
  }
 },
 "nbformat": 4,
 "nbformat_minor": 1
}
