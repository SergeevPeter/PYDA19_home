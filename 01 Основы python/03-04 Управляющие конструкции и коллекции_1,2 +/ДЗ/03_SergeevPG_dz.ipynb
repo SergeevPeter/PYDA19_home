{
 "cells": [
  {
   "cell_type": "markdown",
   "metadata": {},
   "source": [
    "#### Задание 1\n",
    "Дана переменная, в которой хранится слово из латинских букв. Напишите код, который выводит на экран:\n",
    "--среднюю букву, если число букв в слове нечетное;\n",
    "--две средних буквы, если число букв четное.\n",
    "\n",
    "Примеры работы программы:\n",
    "word = ‘test’\n",
    "Результат: es\n",
    "\n",
    "word = ‘testing’\n",
    "Результат: t"
   ]
  },
  {
   "cell_type": "code",
   "execution_count": null,
   "metadata": {},
   "outputs": [],
   "source": [
    "v = 'testing'\n",
    "v1 = len(v)\n",
    "v2 = len(v)//2        #нужно именно целочисленное, так не сработает = round(v2)\n",
    "print(\n",
    "    'Длина текста =', v1, '|', \n",
    "    'Первая буква =', v2, '|'\n",
    "    )\n",
    "if v1%2 == 1:\n",
    "    print('Нечетное. Результат =', v[v2])\n",
    "else: \n",
    "    print('Четное. Результат =', v[(v2-1):(v2-1+2)] )\n"
   ]
  },
  {
   "cell_type": "markdown",
   "metadata": {},
   "source": [
    "#### Задание 2\n",
    "Напишите программу, которая последовательно запрашивает у пользователя числа (по одному за раз) и после первого нуля выводит сумму всех ранее введенных чисел.\n",
    "\n",
    "Примеры работы программы:\n",
    "\n",
    "Введите число: 1\n",
    "Введите число: 4\n",
    "Введите число: 6\n",
    "Введите число: 0\n",
    "Результат: 11\n",
    "Введите число: 0\n",
    "Результат: 0"
   ]
  },
  {
   "cell_type": "code",
   "execution_count": 5,
   "metadata": {},
   "outputs": [
    {
     "name": "stdout",
     "output_type": "stream",
     "text": [
      "Введите число: 65\n",
      "Введите число: 45\n",
      "Введите число: 0\n",
      "Результат: 110\n"
     ]
    }
   ],
   "source": [
    "sum_ = 0  # переменная для накопления результата\n",
    "a_ = ''\n",
    "\n",
    "while a_ != 0:\n",
    "    a_ = int(input('Введите число: '))\n",
    "    sum_ += a_ \n",
    "print(\"Результат:\", sum_)"
   ]
  },
  {
   "cell_type": "markdown",
   "metadata": {},
   "source": [
    "#### Задание 3\n",
    "Мы делаем MVP dating-сервиса, и у нас есть список парней и девушек.\n",
    "Выдвигаем гипотезу: лучшие рекомендации мы получим, если просто отсортируем имена по алфавиту и познакомим людей с одинаковыми индексами после сортировки! Но мы не будем никого знакомить, если кто-то может остаться без пары:\n",
    "\n",
    "Внимание, кто-то может остаться без пары!"
   ]
  },
  {
   "cell_type": "code",
   "execution_count": 7,
   "metadata": {},
   "outputs": [
    {
     "name": "stdout",
     "output_type": "stream",
     "text": [
      "Идеальные пары:\n",
      "Alex и Emma\n",
      "Arthur и Kate\n",
      "John и Kira\n",
      "Peter и Liza\n",
      "Richard и Trisha\n"
     ]
    }
   ],
   "source": [
    "# МОЕ ИЗНАЧАЛЬНОЕ РЕШЕНИЕ\n",
    "boys = ['Peter', 'Alex', 'John', 'Arthur', 'Richard']\n",
    "girls = ['Kate', 'Liza', 'Kira', 'Emma', 'Trisha']\n",
    "\n",
    "var = zip(sorted(boys),sorted(girls))\n",
    "var1 = list(var)\n",
    "\n",
    "if len(boys)==len(girls):\n",
    "    print('Идеальные пары:')\n",
    "    for item in var1:\n",
    "        print(item[0], 'и', item [1])\n",
    "else:\n",
    "    print('error')"
   ]
  },
  {
   "cell_type": "code",
   "execution_count": 6,
   "metadata": {},
   "outputs": [
    {
     "name": "stdout",
     "output_type": "stream",
     "text": [
      "Идеальные пары:\n",
      "Alex и Emma\n",
      "Arthur и Kate\n",
      "John и Kira\n",
      "Peter и Liza\n",
      "Richard и Trisha\n"
     ]
    }
   ],
   "source": [
    "# Вариант ПРОВЕРКА (от Нетологии)\n",
    "# В задаче с парами сортировку и зиповку так же можно было сделать внутри условия, \n",
    "# чтобы эти действия исполнялись только тогда, когда точно необходимо.\n",
    "\n",
    "boys = ['Peter', 'Alex', 'John', 'Arthur', 'Richard']\n",
    "girls = ['Kate', 'Liza', 'Kira', 'Emma', 'Trisha']\n",
    "\n",
    "if len(boys)==len(girls):\n",
    "    print('Идеальные пары:')\n",
    "    for item in zip(sorted(boys),sorted(girls)):\n",
    "        print(item[0], 'и', item [1])\n",
    "else:\n",
    "    print('error')"
   ]
  },
  {
   "cell_type": "markdown",
   "metadata": {},
   "source": [
    "#### Задание 4\n",
    "У нас есть список, содержащий информацию о среднедневной температуре в Фаренгейтах за произвольный период по странам (структура данных в примере). Необходимо написать код, который рассчитает среднюю температуру за период в Цельсиях(!) для каждой страны.\n",
    "\n",
    "Пример работы программы:\n",
    "\n",
    "countries_temperature = [\n",
    "[‘Thailand’, [75.2, 77, 78.8, 73.4, 68, 75.2, 77]],\n",
    "[‘Germany’, [57.2, 55.4, 59, 59, 53.6]],\n",
    "[‘Russia’, [35.6, 37.4, 39.2, 41, 42.8, 39.2, 35.6]],\n",
    "[‘Poland’, [50, 50, 53.6, 57.2, 55.4, 55.4]]\n",
    "]\n",
    "Результат:\n",
    "\n",
    "Средняя температура в странах:\n",
    "Thailand - 23.9 С\n",
    "Germany - 13.8 С\n",
    "Russia - 3.7 С\n",
    "Poland - 12.0 С"
   ]
  },
  {
   "cell_type": "code",
   "execution_count": 3,
   "metadata": {},
   "outputs": [
    {
     "name": "stdout",
     "output_type": "stream",
     "text": [
      "Thailand = 23.9 °C\n",
      "Germany = 13.7 °C\n",
      "Russia = 3.7 °C\n",
      "Poland = 11.9 °C\n"
     ]
    }
   ],
   "source": [
    "countries_temperature = [\n",
    " ['Thailand', [75.2, 77, 78.8, 73.4, 68, 75.2, 77]],\n",
    " ['Germany', [57.2, 55.4, 59, 59, 53.6, 55.4, 57.2]],\n",
    " ['Russia', [35.6, 37.4, 39.2, 41, 42.8, 39.2, 35.6]],\n",
    " ['Poland', [50, 50, 53.6, 57.2, 55.4, 55.4, 51.8]],\n",
    "]\n",
    "\n",
    "for item in countries_temperature:\n",
    "    print(item[0]\n",
    "          , \"=\"\n",
    "          , round((sum(item[1]) / len(item[1]) - 32) * 5/9, 1)\n",
    "          , \"°C\"\n",
    "         )"
   ]
  },
  {
   "cell_type": "markdown",
   "metadata": {},
   "source": [
    "#### Задание 5\n",
    "Дан поток логов по количеству просмотренных страниц для каждого пользователя. Вам необходимо написать алгоритм, который считает среднее значение просмотров на пользователя. Т. е. надо посчитать отношение суммы всех просмотров к количеству уникальных пользователей."
   ]
  },
  {
   "cell_type": "code",
   "execution_count": 6,
   "metadata": {},
   "outputs": [
    {
     "name": "stdout",
     "output_type": "stream",
     "text": [
      "145.33333333333334\n"
     ]
    }
   ],
   "source": [
    "\"\"\"\n",
    "stream = [\n",
    "    '2018-01-01,user1,3',\n",
    "    '2018-01-07,user1,4',\n",
    "    '2018-03-29,user1,1',\n",
    "    '2018-04-04,user1,13',\n",
    "    '2018-01-05,user2,7',\n",
    "    '2018-06-14,user3,4',\n",
    "    '2018-07-02,user3,10',\n",
    "    '2018-03-21,user4,19',\n",
    "    '2018-03-22,user4,4',\n",
    "    '2018-04-22,user4,8',\n",
    "    '2018-05-03,user4,9',\n",
    "    '2018-05-11,user4,11',\n",
    "]\n",
    "\"\"\"\n",
    "\n",
    "\n",
    "stream = [\n",
    "'2018-01-01,user100,150',\n",
    "'2018-01-07,user99,205',\n",
    "'2018-03-29,user1001,81'\n",
    "]\n",
    "\n",
    "\n",
    "var_userVal = 0\n",
    "var_list = []\n",
    "\n",
    "for item in stream:\n",
    "    var_user = item.split(\",\")[1]\n",
    "    var_userVal = var_userVal + int(item.split(\",\")[2])\n",
    "    if var_user not in var_list:\n",
    "        var_list.append(var_user)\n",
    "print(var_userVal / len(var_list))"
   ]
  },
  {
   "cell_type": "markdown",
   "metadata": {},
   "source": [
    "#### Задание 6\n",
    "Необходимо у пользователя запрашивать набор чисел разделенных пробелом. В результате должны выводиться числа, которые повторяются в вводе более одного раза.\n",
    "\n",
    "Примеры работы программы:\n",
    "Введите числа: 4 8 0 3 4 2 0 3\n",
    "Результат: 0 3 4\n",
    "\n",
    "Введите числа: 1 1 2 2 3 3\n",
    "Результат: 1 2 3\n",
    "\n",
    "Введите числа: 1 1 1 1 1 2 2 2\n",
    "Результат: 1 2"
   ]
  },
  {
   "cell_type": "code",
   "execution_count": 89,
   "metadata": {},
   "outputs": [
    {
     "name": "stdout",
     "output_type": "stream",
     "text": [
      "Результат:=  1 2 3\n"
     ]
    }
   ],
   "source": [
    "#var_str_ = '4 8 0 3 4 2 0 3'\n",
    "#var_str_ = '1 1 1 1 1 2 2 2'\n",
    "var_str_ = '1 1 2 2 3 3'\n",
    "\n",
    "var_list_1_ = var_str_.split(' ')\n",
    "var_list_empty_ = []\n",
    "\n",
    "\n",
    "for item in var_list_1_:\n",
    "    if item not in var_list_empty_:\n",
    "        var_list_empty_.append(item)\n",
    "\n",
    "print(\"Результат:= \", \" \".join(var_list_empty_))\n",
    "\n"
   ]
  }
 ],
 "metadata": {
  "kernelspec": {
   "display_name": "Python 3",
   "language": "python",
   "name": "python3"
  },
  "language_info": {
   "codemirror_mode": {
    "name": "ipython",
    "version": 3
   },
   "file_extension": ".py",
   "mimetype": "text/x-python",
   "name": "python",
   "nbconvert_exporter": "python",
   "pygments_lexer": "ipython3",
   "version": "3.8.3"
  }
 },
 "nbformat": 4,
 "nbformat_minor": 4
}
