{
 "cells": [
  {
   "cell_type": "markdown",
   "metadata": {},
   "source": [
    "### Вопрос 1. Распаковка элементов прямо в цикле"
   ]
  },
  {
   "cell_type": "code",
   "execution_count": 1,
   "metadata": {},
   "outputs": [
    {
     "name": "stdout",
     "output_type": "stream",
     "text": [
      "Orange\n",
      "100000000\n"
     ]
    }
   ],
   "source": [
    "company_tuple = ('Orange', 100000000)\n",
    "company_name, capitalization = company_tuple\n",
    "print(company_name)\n",
    "print(capitalization)"
   ]
  },
  {
   "cell_type": "code",
   "execution_count": 8,
   "metadata": {},
   "outputs": [
    {
     "name": "stdout",
     "output_type": "stream",
     "text": [
      "1.3\n",
      "1.5\n",
      "0.8\n",
      "2.2\n"
     ]
    }
   ],
   "source": [
    "companies_info = [\n",
    "    ['Orange', 1.3, 30000],\n",
    "    ['Maxisoft', 1.5, 40000],\n",
    "    ['Headbook', 0.8, 15000],\n",
    "    ['Nicola', 2.2, 18000]\n",
    "]\n",
    "\n",
    "for company in companies_info:\n",
    "    print(company[1])"
   ]
  },
  {
   "cell_type": "code",
   "execution_count": 11,
   "metadata": {},
   "outputs": [
    {
     "name": "stdout",
     "output_type": "stream",
     "text": [
      "Orange 1.3\n",
      "Maxisoft 1.5\n",
      "Headbook 0.8\n",
      "Nicola 2.2\n"
     ]
    }
   ],
   "source": [
    "for name, cap, xxx in companies_info:\n",
    "    print(name, cap)"
   ]
  },
  {
   "cell_type": "markdown",
   "metadata": {},
   "source": [
    "### Вопрос 2. Округление чисел\n",
    "\n",
    "Разное форматирование:\n",
    "http://cis.bentley.edu/sandbox/wp-content/uploads/Documentation-on-f-strings.pdf"
   ]
  },
  {
   "cell_type": "code",
   "execution_count": 12,
   "metadata": {},
   "outputs": [
    {
     "name": "stdout",
     "output_type": "stream",
     "text": [
      "Orange 1.35 30000\n",
      "Maxisoft 1.53 40000\n",
      "Headbook 0.83 15000\n",
      "Nicola 2.23 18000\n"
     ]
    }
   ],
   "source": [
    "companies_info = [\n",
    "    ['Orange', 1.35464, 30000],\n",
    "    ['Maxisoft', 1.5346, 40000],\n",
    "    ['Headbook', 0.8346, 15000],\n",
    "    ['Nicola', 2.2346, 18000]\n",
    "]\n",
    "\n",
    "for name, cap, pers in companies_info:\n",
    "    print(name, round(cap, 2), pers)"
   ]
  },
  {
   "cell_type": "code",
   "execution_count": 30,
   "metadata": {},
   "outputs": [
    {
     "name": "stdout",
     "output_type": "stream",
     "text": [
      "Orange, 1.35, 30000\n",
      "Maxisoft, 1.53, 40000\n",
      "Headbook, 0.83, 15000\n",
      "Nicola, 2.23, 18000\n"
     ]
    }
   ],
   "source": [
    "for name, cap, pers in companies_info:\n",
    "    print(f'{name}, {cap :.2f}, {pers}')"
   ]
  },
  {
   "cell_type": "markdown",
   "metadata": {},
   "source": [
    "### Вопрос 3. Как досдавать необязательные дз, во-первых куда направлять его на проверку, и во-вторых направлять ссылку на нужный коммит или на все дз"
   ]
  },
  {
   "cell_type": "markdown",
   "metadata": {},
   "source": [
    "### Вопрос 4. Как пользоваться hackerrank\n",
    "\n",
    "https://www.hackerrank.com/challenges/compare-the-triplets/problem"
   ]
  },
  {
   "cell_type": "code",
   "execution_count": 43,
   "metadata": {},
   "outputs": [
    {
     "name": "stdout",
     "output_type": "stream",
     "text": [
      "[3, 2, 1]\n"
     ]
    }
   ],
   "source": [
    "list1 = [1,2,3]\n",
    "res = list1.sort(reverse = True)\n",
    "print(list1)"
   ]
  },
  {
   "cell_type": "code",
   "execution_count": 56,
   "metadata": {},
   "outputs": [
    {
     "name": "stdout",
     "output_type": "stream",
     "text": [
      "['ыфыв', 'eryu'] 2\n",
      "['фывфыв', 'eyr'] 2\n",
      "['фыв', 'veyrry'] 2\n",
      "['фыв', 'eyrey', 'yery', 'ery'] 4\n",
      "['ыф'] 1\n"
     ]
    }
   ],
   "source": [
    "my_list = ['ыфыв eryu ', 'фывфыв eyr', 'фыв veyrry ', 'фыв eyrey yery ery', 'ыф']\n",
    "for i in my_list:\n",
    "    print(i.split( ), len(i.split( )))"
   ]
  },
  {
   "cell_type": "markdown",
   "metadata": {},
   "source": [
    "### С прошлого раза. \"Разгладим\" список"
   ]
  },
  {
   "cell_type": "code",
   "execution_count": 57,
   "metadata": {},
   "outputs": [],
   "source": [
    "my_list = [['Екатеринбург', 'Москва'], ['Санкт-Петербург', 'Норильск'], ['Пермь', 'Астрахань']]"
   ]
  },
  {
   "cell_type": "code",
   "execution_count": 58,
   "metadata": {},
   "outputs": [
    {
     "data": {
      "text/plain": [
       "['Екатеринбург', 'Москва', 'Санкт-Петербург', 'Норильск', 'Пермь', 'Астрахань']"
      ]
     },
     "execution_count": 58,
     "metadata": {},
     "output_type": "execute_result"
    }
   ],
   "source": [
    "sum(my_list, [])"
   ]
  },
  {
   "cell_type": "code",
   "execution_count": 35,
   "metadata": {},
   "outputs": [
    {
     "data": {
      "text/plain": [
       "{1: 2, 3: 4, 5: 7}"
      ]
     },
     "execution_count": 35,
     "metadata": {},
     "output_type": "execute_result"
    }
   ],
   "source": [
    "# соединяем словари\n",
    "dict_1 = {1: 2}\n",
    "dict_2 = {3: 4, 5:7}\n",
    "\n",
    "# создаем новый\n",
    "# res = {**dict_1, **dict_2}\n",
    "# res\n",
    "\n",
    "# меняем исходный\n",
    "# dict_1.update(dict_2)"
   ]
  },
  {
   "cell_type": "markdown",
   "metadata": {},
   "source": [
    "### Сортировка словарей"
   ]
  },
  {
   "cell_type": "code",
   "execution_count": 76,
   "metadata": {},
   "outputs": [],
   "source": [
    "my_dict = {\n",
    "    'id1': 654321, \n",
    "    'id2': 123456, \n",
    "    'id3': 777777\n",
    "}"
   ]
  },
  {
   "cell_type": "code",
   "execution_count": 77,
   "metadata": {},
   "outputs": [
    {
     "data": {
      "text/plain": [
       "['id3', 'id2', 'id1']"
      ]
     },
     "execution_count": 77,
     "metadata": {},
     "output_type": "execute_result"
    }
   ],
   "source": [
    "sorted(my_dict, reverse=True)"
   ]
  },
  {
   "cell_type": "code",
   "execution_count": 78,
   "metadata": {},
   "outputs": [
    {
     "data": {
      "text/plain": [
       "[('id3', 777777), ('id2', 123456), ('id1', 654321)]"
      ]
     },
     "execution_count": 78,
     "metadata": {},
     "output_type": "execute_result"
    }
   ],
   "source": [
    "sorted(my_dict.items(), reverse=True)"
   ]
  },
  {
   "cell_type": "code",
   "execution_count": 79,
   "metadata": {},
   "outputs": [
    {
     "data": {
      "text/plain": [
       "{'id3': 777777, 'id1': 654321, 'id2': 123456}"
      ]
     },
     "execution_count": 79,
     "metadata": {},
     "output_type": "execute_result"
    }
   ],
   "source": [
    "dict(sorted(my_dict.items(), key=lambda kv: kv[1], reverse=True))"
   ]
  },
  {
   "cell_type": "markdown",
   "metadata": {},
   "source": [
    "### Практика. Согласно сайту www.bodycounters.com в четырех частях фильма “Пираты Карибского моря” было довольно много погибших. Пиратов-зомби в последней части тоже считайте живыми."
   ]
  },
  {
   "cell_type": "code",
   "execution_count": 92,
   "metadata": {},
   "outputs": [],
   "source": [
    "bodycount = {\n",
    "    'Проклятие Черной жемчужины': {\n",
    "        'человек': 17\n",
    "    }, \n",
    "\n",
    "    'Сундук мертвеца': {\n",
    "        'человек': 56,\n",
    "        'раков-отшельников': 1\n",
    "    },\n",
    "\n",
    "    'На краю света': {\n",
    "        'человек': 88\n",
    "    },\n",
    "\n",
    "    'На странных берегах': {\n",
    "        'человек': 56,\n",
    "        'русалок': 2,\n",
    "        'ядовитых жаб': 3,\n",
    "        'пиратов зомби': 2\n",
    "    }\n",
    "}"
   ]
  },
  {
   "cell_type": "code",
   "execution_count": 113,
   "metadata": {},
   "outputs": [
    {
     "name": "stdout",
     "output_type": "stream",
     "text": [
      "225\n"
     ]
    }
   ],
   "source": [
    "n = 0\n",
    "for num in bodycount.values():\n",
    "#     print(num)\n",
    "    for count in num.values():\n",
    "        n += count\n",
    "print(n)"
   ]
  },
  {
   "cell_type": "code",
   "execution_count": 105,
   "metadata": {},
   "outputs": [
    {
     "name": "stdout",
     "output_type": "stream",
     "text": [
      "{'человек': 17}\n",
      "{'человек': 56, 'раков-отшельников': 1}\n",
      "{'человек': 88}\n",
      "{'человек': 56, 'русалок': 2, 'ядовитых жаб': 3, 'пиратов зомби': 2}\n"
     ]
    }
   ],
   "source": [
    "n = 0\n",
    "for num in bodycount.values():\n",
    "    print(num)\n",
    "#     for count in num.values():\n",
    "#         print(count)"
   ]
  },
  {
   "cell_type": "code",
   "execution_count": 115,
   "metadata": {},
   "outputs": [
    {
     "name": "stdout",
     "output_type": "stream",
     "text": [
      "225\n"
     ]
    }
   ],
   "source": [
    "new_list = []\n",
    "for val in bodycount.values():\n",
    "    for v in val.values():\n",
    "        new_list.append(v)\n",
    "print(sum(new_list))"
   ]
  },
  {
   "cell_type": "code",
   "execution_count": 114,
   "metadata": {},
   "outputs": [
    {
     "name": "stdout",
     "output_type": "stream",
     "text": [
      "225\n"
     ]
    }
   ],
   "source": [
    "all_dead = 0\n",
    "for dead in bodycount.values():\n",
    "    #print(dead)\n",
    "    all_dead += sum(dead.values())\n",
    "\n",
    "print(all_dead)"
   ]
  },
  {
   "cell_type": "code",
   "execution_count": 120,
   "metadata": {},
   "outputs": [
    {
     "name": "stdout",
     "output_type": "stream",
     "text": [
      "17\n",
      "57\n",
      "88\n",
      "63\n"
     ]
    }
   ],
   "source": [
    "all_dead = 0\n",
    "for dead in bodycount.values():\n",
    "    print(sum(dead.values()))"
   ]
  },
  {
   "cell_type": "markdown",
   "metadata": {},
   "source": [
    "### Практика. Посчитайте сколько раз каждое слово встречалось в тексте \n",
    "Вывести в формате: \"слово\": \"количество вхождений\"\n",
    "\n",
    "За разделитель считаем пробел, все слова приводим к нижнему регистру"
   ]
  },
  {
   "cell_type": "code",
   "execution_count": 122,
   "metadata": {},
   "outputs": [
    {
     "data": {
      "text/plain": [
       "'\\nВесь мой рэп, если коротко, про то, что\\nУж который год который город под подошвой\\nВ гору, когда прет. Потом под гору, когда тошно\\nЯ не то, что Гулливер, но все же город под подошвой\\nГород под подошвой, город под подошвой\\nСветофоры, госпошлины, сборы и таможни\\nЯ не знаю, вброд или на дно эта дорожка\\nТы живешь под каблуком, у меня - город под подошвой\\n'"
      ]
     },
     "execution_count": 122,
     "metadata": {},
     "output_type": "execute_result"
    }
   ],
   "source": [
    "some_oxy_text = '''\n",
    "Весь мой рэп, если коротко, про то, что\n",
    "Уж который год который город под подошвой\n",
    "В гору, когда прет. Потом под гору, когда тошно\n",
    "Я не то, что Гулливер, но все же город под подошвой\n",
    "Город под подошвой, город под подошвой\n",
    "Светофоры, госпошлины, сборы и таможни\n",
    "Я не знаю, вброд или на дно эта дорожка\n",
    "Ты живешь под каблуком, у меня - город под подошвой\n",
    "'''\n",
    "some_oxy_text"
   ]
  },
  {
   "cell_type": "code",
   "execution_count": 133,
   "metadata": {},
   "outputs": [
    {
     "name": "stdout",
     "output_type": "stream",
     "text": [
      "Под: 7\n",
      "Подошвой: 5\n",
      "Город: 4\n",
      "Гору: 2\n",
      "Я: 2\n",
      "Который: 2\n",
      "Когда: 2\n",
      "Что: 2\n",
      "То: 2\n",
      "Не: 2\n",
      "У: 1\n",
      "Каблуком: 1\n",
      "На: 1\n",
      "Прет: 1\n",
      "Гулливер: 1\n",
      "Дорожка: 1\n",
      "Мой: 1\n",
      "город: 1\n",
      "В: 1\n",
      "Эта: 1\n",
      "Меня: 1\n",
      "Госпошлины: 1\n",
      "Или: 1\n",
      "Уж: 1\n",
      "Сборы: 1\n",
      "Коротко: 1\n",
      "Если: 1\n",
      "Весь: 1\n",
      "Про: 1\n",
      "Светофоры: 1\n",
      "Все: 1\n",
      "Рэп: 1\n",
      "Ты: 1\n",
      "Вброд: 1\n",
      "Знаю: 1\n",
      "Год: 1\n",
      "Потом: 1\n",
      "Тошно: 1\n",
      "Дно: 1\n",
      "Но: 1\n",
      "Живешь: 1\n",
      "И: 1\n",
      "Таможни: 1\n",
      "Же: 1\n"
     ]
    }
   ],
   "source": [
    "oxy_split = some_oxy_text.split()\n",
    "for word in oxy_split:\n",
    "    oxy_split[oxy_split.index(word)] = word.strip(',').strip('.').capitalize()\n",
    "    if word == '-':\n",
    "        oxy_split.remove(word)\n",
    "\n",
    "oxy_dict = {}\n",
    "for word in set(oxy_split):\n",
    "    oxy_dict[word] = oxy_split.count(word)\n",
    "    \n",
    "for key, value in sorted(oxy_dict.items(), key=lambda kv: kv[1], reverse=True):\n",
    "    print(f'{key}: {value}')"
   ]
  },
  {
   "cell_type": "code",
   "execution_count": 134,
   "metadata": {},
   "outputs": [
    {
     "name": "stdout",
     "output_type": "stream",
     "text": [
      " 2\n",
      "Весь 1\n",
      "мой 1\n",
      "рэп 1\n",
      "если 1\n",
      "коротко 1\n",
      "про 1\n",
      "то 2\n",
      "что 2\n",
      "Уж 1\n",
      "который 2\n",
      "год 1\n",
      "который 2\n",
      "город 4\n",
      "под 7\n",
      "подошвой 5\n",
      "В 1\n",
      "гору 2\n",
      "когда 2\n",
      "прет 1\n",
      "Потом 1\n",
      "под 7\n",
      "гору 2\n",
      "когда 2\n",
      "тошно 1\n",
      "Я 2\n",
      "не 2\n",
      "то 2\n",
      "что 2\n",
      "Гулливер 1\n",
      "но 1\n",
      "все 1\n",
      "же 1\n",
      "город 4\n",
      "под 7\n",
      "подошвой 5\n",
      "Город 1\n",
      "под 7\n",
      "подошвой 5\n",
      "город 4\n",
      "под 7\n",
      "подошвой 5\n",
      "Светофоры 1\n",
      "госпошлины 1\n",
      "сборы 1\n",
      "и 1\n",
      "таможни 1\n",
      "Я 2\n",
      "не 2\n",
      "знаю 1\n",
      "вброд 1\n",
      "или 1\n",
      "на 1\n",
      "дно 1\n",
      "эта 1\n",
      "дорожка 1\n",
      "Ты 1\n",
      "живешь 1\n",
      "под 7\n",
      "каблуком 1\n",
      "у 1\n",
      "меня 1\n",
      "- 1\n",
      "город 4\n",
      "под 7\n",
      "подошвой 5\n",
      " 2\n"
     ]
    }
   ],
   "source": [
    "some_oxy_text_1 = some_oxy_text.replace(',', '')\n",
    "some_oxy_text_2 = some_oxy_text_1.replace('.', '')\n",
    "some_oxy_text_3 = some_oxy_text_2.replace('\\n', ' ')\n",
    "text_list = list(some_oxy_text_3.split(' '))\n",
    "for element in text_list:\n",
    "    print(element,text_list.count(element))"
   ]
  },
  {
   "cell_type": "code",
   "execution_count": 127,
   "metadata": {},
   "outputs": [
    {
     "ename": "IndexError",
     "evalue": "string index out of range",
     "output_type": "error",
     "traceback": [
      "\u001b[1;31m---------------------------------------------------------------------------\u001b[0m",
      "\u001b[1;31mIndexError\u001b[0m                                Traceback (most recent call last)",
      "\u001b[1;32m<ipython-input-127-a0db789d9c19>\u001b[0m in \u001b[0;36m<module>\u001b[1;34m\u001b[0m\n\u001b[0;32m      1\u001b[0m \u001b[0mcount\u001b[0m \u001b[1;33m=\u001b[0m \u001b[1;36m0\u001b[0m\u001b[1;33m\u001b[0m\u001b[1;33m\u001b[0m\u001b[0m\n\u001b[0;32m      2\u001b[0m \u001b[1;32mfor\u001b[0m \u001b[0mword\u001b[0m \u001b[1;32min\u001b[0m \u001b[0msome_oxy_text\u001b[0m\u001b[1;33m.\u001b[0m\u001b[0msplit\u001b[0m\u001b[1;33m(\u001b[0m\u001b[1;34m' '\u001b[0m\u001b[1;33m)\u001b[0m\u001b[1;33m:\u001b[0m\u001b[1;33m\u001b[0m\u001b[1;33m\u001b[0m\u001b[0m\n\u001b[1;32m----> 3\u001b[1;33m     \u001b[1;32mif\u001b[0m \u001b[0mword\u001b[0m\u001b[1;33m[\u001b[0m\u001b[0mlen\u001b[0m\u001b[1;33m(\u001b[0m\u001b[0mword\u001b[0m\u001b[1;33m)\u001b[0m\u001b[1;33m]\u001b[0m \u001b[1;33m==\u001b[0m \u001b[1;34m\",\"\u001b[0m \u001b[1;32mor\u001b[0m \u001b[0mword\u001b[0m\u001b[1;33m[\u001b[0m\u001b[0mlen\u001b[0m\u001b[1;33m(\u001b[0m\u001b[0mword\u001b[0m\u001b[1;33m)\u001b[0m\u001b[1;33m]\u001b[0m \u001b[1;33m==\u001b[0m \u001b[1;34m'.'\u001b[0m\u001b[1;33m:\u001b[0m\u001b[1;33m\u001b[0m\u001b[1;33m\u001b[0m\u001b[0m\n\u001b[0m\u001b[0;32m      4\u001b[0m         \u001b[0mprint\u001b[0m\u001b[1;33m(\u001b[0m\u001b[1;33m-\u001b[0m\u001b[1;34mf\"{word} - count\"\u001b[0m\u001b[1;33m)\u001b[0m\u001b[1;33m\u001b[0m\u001b[1;33m\u001b[0m\u001b[0m\n",
      "\u001b[1;31mIndexError\u001b[0m: string index out of range"
     ]
    }
   ],
   "source": [
    "count = 0\n",
    "for word in some_oxy_text.split(' '):\n",
    "    if word[len(word)] == \",\" or word[len(word)] == '.':\n",
    "        print(-f\"{word} - count\")"
   ]
  },
  {
   "cell_type": "code",
   "execution_count": 140,
   "metadata": {},
   "outputs": [
    {
     "name": "stdout",
     "output_type": "stream",
     "text": [
      "вброд: 1\n",
      "каблуком: 1\n",
      "на: 1\n",
      "я: 2\n",
      "коротко: 1\n",
      "под: 7\n",
      "город: 5\n",
      "не: 2\n",
      "но: 1\n",
      "если: 1\n",
      "эта: 1\n",
      "-: 1\n",
      "таможни: 1\n",
      "или: 1\n",
      "знаю: 1\n",
      "год: 1\n",
      "дорожка: 1\n",
      "уж: 1\n",
      "подошвой: 5\n",
      "все: 1\n",
      "сборы: 1\n",
      "меня: 1\n",
      "у: 1\n",
      "госпошлины: 1\n",
      "гору: 2\n",
      "дно: 1\n",
      "и: 1\n",
      "гулливер: 1\n",
      "тошно: 1\n",
      "то: 2\n",
      "же: 1\n",
      "что: 2\n",
      "прет: 1\n",
      "мой: 1\n",
      "потом: 1\n",
      "живешь: 1\n",
      "весь: 1\n",
      "рэп: 1\n",
      "в: 1\n",
      "про: 1\n",
      "ты: 1\n",
      "который: 2\n",
      "когда: 2\n",
      "светофоры: 1\n"
     ]
    }
   ],
   "source": [
    "res = some_oxy_text.replace(',', ' ').replace('.', ' ').replace('\\n', ' ')\n",
    "res = res.lower()\n",
    "splitted_text = res.split()\n",
    "\n",
    "for word in set(splitted_text):\n",
    "    print(f'{word}: {splitted_text.count(word)}')"
   ]
  },
  {
   "cell_type": "code",
   "execution_count": 130,
   "metadata": {},
   "outputs": [
    {
     "name": "stdout",
     "output_type": "stream",
     "text": [
      "под: 7\n",
      "город: 5\n",
      "подошвой: 5\n",
      "я: 2\n",
      "не: 2\n",
      "гору: 2\n",
      "то: 2\n",
      "что: 2\n",
      "который: 2\n",
      "когда: 2\n",
      "вброд: 1\n",
      "каблуком: 1\n",
      "на: 1\n",
      "коротко: 1\n",
      "но: 1\n",
      "если: 1\n",
      "эта: 1\n",
      "-: 1\n",
      "таможни: 1\n",
      "или: 1\n",
      "знаю: 1\n",
      "год: 1\n",
      "дорожка: 1\n",
      "уж: 1\n",
      "все: 1\n",
      "сборы: 1\n",
      "меня: 1\n",
      "у: 1\n",
      "госпошлины: 1\n",
      "дно: 1\n",
      "и: 1\n",
      "гулливер: 1\n",
      "тошно: 1\n",
      "же: 1\n",
      "прет: 1\n",
      "мой: 1\n",
      "потом: 1\n",
      "живешь: 1\n",
      "весь: 1\n",
      "рэп: 1\n",
      "в: 1\n",
      "про: 1\n",
      "ты: 1\n",
      "светофоры: 1\n"
     ]
    }
   ],
   "source": [
    "oxy_dict = {}\n",
    "for word in set(splitted_text):\n",
    "    oxy_dict[word] = splitted_text.count(word)\n",
    "    \n",
    "for key, value in sorted(oxy_dict.items(), key=lambda kv: kv[1], reverse=True):\n",
    "    print(f'{key}: {value}')"
   ]
  },
  {
   "cell_type": "code",
   "execution_count": 144,
   "metadata": {},
   "outputs": [],
   "source": [
    "geo_logs = [\n",
    "    {'visit1': ['Москва', 'Россия']},\n",
    "    {'visit2': ['Дели', 'Индия']},\n",
    "    {'visit3': ['Владимир', 'Россия']},\n",
    "    {'visit4': ['Лиссабон', 'Португалия']},\n",
    "    {'visit5': ['Париж', 'Франция']},\n",
    "    {'visit5': ['Париж', 'Франция']},\n",
    "    {'visit7': ['Тула', 'Россия']},\n",
    "    {'visit9': ['Курск', 'Россия']},\n",
    "    {'visit10': ['Архангельск', 'Россия']}\n",
    "]"
   ]
  },
  {
   "cell_type": "code",
   "execution_count": 145,
   "metadata": {},
   "outputs": [
    {
     "name": "stdout",
     "output_type": "stream",
     "text": [
      "[{'visit1': ['Москва', 'Россия']}, {'visit3': ['Владимир', 'Россия']}, {'visit5': ['Париж', 'Франция']}, {'visit7': ['Тула', 'Россия']}, {'visit9': ['Курск', 'Россия']}, {'visit10': ['Архангельск', 'Россия']}]\n"
     ]
    }
   ],
   "source": [
    "# неверный вариант; оставлется \"Париж\"\n",
    "for n in geo_logs:\n",
    "    for i in n.values():\n",
    "        if i[1] != 'Россия':\n",
    "            geo_logs.remove(n)\n",
    "print(geo_logs)"
   ]
  },
  {
   "cell_type": "code",
   "execution_count": 146,
   "metadata": {},
   "outputs": [
    {
     "data": {
      "text/plain": [
       "[{'visit1': ['Москва', 'Россия']},\n",
       " {'visit3': ['Владимир', 'Россия']},\n",
       " {'visit7': ['Тула', 'Россия']},\n",
       " {'visit9': ['Курск', 'Россия']},\n",
       " {'visit10': ['Архангельск', 'Россия']}]"
      ]
     },
     "execution_count": 146,
     "metadata": {},
     "output_type": "execute_result"
    }
   ],
   "source": [
    "\n",
    "geo_logs_2 = geo_logs.copy()\n",
    "\n",
    "for visit in geo_logs_2:\n",
    "    if 'Россия' not in list(visit.values())[0]:\n",
    "        geo_logs.remove(visit)\n",
    "        \n",
    "geo_logs"
   ]
  }
 ],
 "metadata": {
  "kernelspec": {
   "display_name": "Python 3",
   "language": "python",
   "name": "python3"
  },
  "language_info": {
   "codemirror_mode": {
    "name": "ipython",
    "version": 3
   },
   "file_extension": ".py",
   "mimetype": "text/x-python",
   "name": "python",
   "nbconvert_exporter": "python",
   "pygments_lexer": "ipython3",
   "version": "3.8.3"
  }
 },
 "nbformat": 4,
 "nbformat_minor": 4
}
