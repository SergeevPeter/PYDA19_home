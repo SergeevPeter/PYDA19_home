{
 "cells": [
  {
   "cell_type": "markdown",
   "metadata": {},
   "source": [
    "### Задание 1\n",
    "Даны 2 переменных, в которых хранятся строки произвольной длины: phrase_1 и phrase_2.\n",
    "Напишите код, который проверяет какая из этих строк длиннее.\n",
    "\n",
    "Примеры работы программы:\n",
    "phrase_1 = 'Насколько проще было бы писать программы, если бы не заказчики’\n",
    "phrase_2 = '640Кб должно хватить для любых задач. Билл Гейтс (по легенде)'\n",
    "Результат: Фраза 1 длиннее фразы 2\n",
    "\n",
    "phrase_1 = '640Кб должно хватить для любых задач. Билл Гейтс (по легенде)'\n",
    "phrase_2 = 'Насколько проще было бы писать программы, если бы не заказчики’\n",
    "Результат: Фраза 2 длиннее фразы 1\n",
    "\n",
    "phrase_1 = 'Насколько проще было бы писать программы, если бы не заказчики’\n",
    "phrase_2 = 'Насколько проще было бы писать программы, если бы не заказчики’\n",
    "Результат: Фразы равной длины"
   ]
  },
  {
   "cell_type": "code",
   "execution_count": null,
   "metadata": {},
   "outputs": [],
   "source": [
    "phrase_1 = 'Насколько проще было бы писать программы, если бы не заказчики'\n",
    "phrase_2 = '640Кб должно хватить для любых задач. Билл Гейтс (по легенде)'    \n",
    "\n",
    "if len(phrase_1) > len(phrase_2):\n",
    "    otvet_1 = 'Фраза 1 длиннее фразы 2'\n",
    "elif len(phrase_1) < len(phrase_2):\n",
    "    otvet_1  = 'Фраза 2 длиннее фразы 1'\n",
    "else:\n",
    "    otvet_1 = 'Фразы равной длины'\n",
    "print(otvet_1)"
   ]
  },
  {
   "cell_type": "markdown",
   "metadata": {},
   "source": [
    "#### Задание 2\n",
    "Дано:\n",
    "Дана переменная, в которой хранится четырехзначное число (год). Необходимо написать программу, которая выведет, является ли данный год високосным или обычным.\n",
    "\n",
    "Пример работы программы:\n",
    "year = 2020\n",
    "Результат:Високосный год\n",
    "\n",
    "year = 2019\n",
    "Результат:Обычный год"
   ]
  },
  {
   "cell_type": "code",
   "execution_count": null,
   "metadata": {},
   "outputs": [],
   "source": [
    "# МОЕ ИЗНАЧАЛЬНОЕ РЕШЕНИЕ\n",
    "# високосный год - каждый 4ый\n",
    "year_ = 2020\n",
    "'Високосный' if year_ % 4 == 0 else 'Обычный' "
   ]
  },
  {
   "cell_type": "code",
   "execution_count": 6,
   "metadata": {
    "scrolled": true
   },
   "outputs": [
    {
     "name": "stdout",
     "output_type": "stream",
     "text": [
      "2020\n",
      "Високосный год\n"
     ]
    }
   ],
   "source": [
    "# Вариант ПРОВЕРКА (от Нетологии)\n",
    "# нужна доп.проверка\n",
    "year = int(input())\n",
    "\n",
    "if (year % 4 == 0) and (year % 100 != 0) or (year % 400 == 0):\n",
    "    print('Високосный год')\n",
    "else:\n",
    "    print('Обычный год')"
   ]
  },
  {
   "cell_type": "markdown",
   "metadata": {},
   "source": [
    "#### Задание 3\n",
    "Необходимо написать программу, которая будет запрашивать у пользователя месяц и дату рождения и выводить соответствующий знак зодиака.\n",
    "\n",
    "Пример работы программы:\n",
    "\n",
    "Введите день:\n",
    "30\n",
    "\n",
    "Введите месяц:\n",
    "Август\n",
    "Результат:\n",
    "Ваш знак зодиака: Дева\n",
    "\n",
    "Введите день:\n",
    "29\n",
    "\n",
    "Введите месяц:\n",
    "Октябрь\n",
    "Результат:\n",
    "Ваш знак зодиака: Скорпион"
   ]
  },
  {
   "cell_type": "code",
   "execution_count": null,
   "metadata": {},
   "outputs": [],
   "source": [
    "v_month = int(input('Введите номер месяца рождения 1-12: '))\n",
    "v_data = int(input('Введите дату рождения 1-31: '))\n",
    "\n",
    "if (v_month == 1 and v_data >= 21) or (v_month == 2 and v_data <= 19): \n",
    "    print ('Водолей') \n",
    "elif (v_month == 2 and v_data >= 20) or (v_month == 3 and v_data <= 20): \n",
    "    print ('Рыбы') \n",
    "elif (v_month == 3 and v_data >= 21) or (v_month == 4 and v_data <= 20): \n",
    "    print ('Овен') \n",
    "elif (v_month == 4 and v_data >= 21) or (v_month == 5 and v_data <= 21): \n",
    "    print ('Телец') \n",
    "elif (v_month == 5 and v_data >= 22) or (v_month == 6 and v_data <= 21): \n",
    "    print ('Близнецы') \n",
    "elif (v_month == 6 and v_data >= 22) or (v_month == 7 and v_data <= 22): \n",
    "    print ('Рак') \n",
    "elif (v_month == 7 and v_data >= 23) or (v_month == 8 and v_data <= 22): \n",
    "    print ('Лев') \n",
    "elif (v_month == 8 and v_data >= 23) or (v_month == 9 and v_data <= 22): \n",
    "    print ('Дева') \n",
    "elif (v_month == 9 and v_data >= 23) or (v_month == 10 and v_data <= 22): \n",
    "    print ('Весы') \n",
    "elif (v_month == 10 and v_data >= 23) or (v_month == 11 and v_data <= 22): \n",
    "    print ('Скорпион') \n",
    "elif (v_month == 11 and v_data >= 23) or (v_month == 12 and v_data <= 21): \n",
    "    print ('Стрелец') \n",
    "else: \n",
    "    print ('Козерог')"
   ]
  },
  {
   "cell_type": "markdown",
   "metadata": {},
   "source": [
    "#### Задание 4\n",
    "Вам нужно написать программу для подбора упаковок по размерам товара. Размеры хранятся в переменных (в сантиметрах):\n",
    "width = 10\n",
    "length = 205\n",
    "height = 5\n",
    "\n",
    "Используйте следующие правила:\n",
    "--если каждое из трех измерений менее 15 сантиметров, то выведите на экран “Коробка №1”;\n",
    "--если хотя бы одно из измерений больше 15 сантиметров, но менее 50 сантиметров, то выводите “Коробка №2”;\n",
    "--если длина товара больше 2 метров, то выводите “Упаковка для лыж”;\n",
    "--во всех остальных случаях выводите “Стандартная коробка №3”."
   ]
  },
  {
   "cell_type": "code",
   "execution_count": null,
   "metadata": {},
   "outputs": [],
   "source": [
    "width_ = 10\n",
    "length_ = 205\n",
    "height_ = 5\n",
    "\n",
    "if width_ < 15 and length_ < 15 and height_ < 15:\n",
    "    print('Коробка №1')\n",
    "elif (width_ > 15 or length_ > 15 or height_ > 15) and length_ <= 50:\n",
    "    print('Коробка №2')\n",
    "elif length_ > 200:\n",
    "    print('Упаковка для лыж')\n",
    "else:\n",
    "    print('Стандартная коробка №3')"
   ]
  },
  {
   "cell_type": "markdown",
   "metadata": {},
   "source": [
    "#### Задание 5 (необязательное)\n",
    "Дана переменная, в которой хранится шестизначное число (номер проездного билета). Напишите программу, которая будет определять, является ли данный билет “счастливым”. Билет считается счастливым, если сумма первых трех цифр совпадает с суммой последних трех цифр номера.\n",
    "\n",
    "Примеры работы программы:\n",
    "number = 123456\n",
    "Результат: Несчастливый билет\n",
    "\n",
    "number = 123321\n",
    "Результат: Счастливый билет"
   ]
  },
  {
   "cell_type": "code",
   "execution_count": 1,
   "metadata": {},
   "outputs": [
    {
     "data": {
      "text/plain": [
       "'Счастливый билет'"
      ]
     },
     "execution_count": 1,
     "metadata": {},
     "output_type": "execute_result"
    }
   ],
   "source": [
    "# МОЕ ИЗНАЧАЛЬНОЕ РЕШЕНИЕ\n",
    "number_ = str(123321)\n",
    "\n",
    "\n",
    "var_sum_start_ = number_[0] + number_[1] + number_[2]\n",
    "var_sum_end_ = number_[-1] + number_[-2] + number_[-3]\n",
    "\n",
    "\n",
    "'Счастливый билет' if var_sum_start_ == var_sum_end_ else 'Несчастливый билет' "
   ]
  },
  {
   "cell_type": "code",
   "execution_count": 2,
   "metadata": {},
   "outputs": [
    {
     "name": "stdout",
     "output_type": "stream",
     "text": [
      "7\n"
     ]
    }
   ],
   "source": [
    "# Вариант от Преподавателя\n",
    "number = 247456\n",
    "\n",
    "num_1 = number // 100000\n",
    "num_2 = number % 100000 // 10000\n",
    "num_3 = number % 10000 // 1000\n",
    "\n",
    "print(num_3)"
   ]
  },
  {
   "cell_type": "markdown",
   "metadata": {},
   "source": [
    "#### Задание 6 (необязательное)\n",
    "Напишите программу, которая сможет вычислять площади трех фигур (круг, треугольник и прямоугольник). \n",
    "Тип фигуры запрашиваем через пользовательский ввод, после чего делаем запрос характеристик фигуры:\n",
    "--если пользователь выбрал круг, запрашиваем его радиус,\n",
    "--если треугольник – длины трех его сторон;\n",
    "--если прямоугольник – длины двух его сторон.\n",
    "\n",
    "Пример работы программы:\n",
    "Введите тип фигуры: Круг\n",
    "Введите радиус круга: 10\n",
    "Результат: Площадь круга: 314.16\n",
    "\n",
    "Введите тип фигуры:\n",
    "Треугольник\n",
    "Введите длину стороны A: 2\n",
    "Введите длину стороны B: 2\n",
    "Введите длину стороны C: 3\n",
    "Результат: Площадь треугольника: 1.98"
   ]
  },
  {
   "cell_type": "code",
   "execution_count": null,
   "metadata": {},
   "outputs": [],
   "source": [
    "var_figure_input_ = input('Введите тип фигуры <круг|треугольник|прямоугольник>: ')\n",
    "# var_figure_param = input('Введите дату рождения 1-31: ')\n",
    "\n",
    "\n",
    "if var_figure_input_ == 'круг': \n",
    "    var_radius_ = int(input('Введите радиус круга: '))\n",
    "    var_square_ = round(3.1415 * (var_radius_**2), 2)\n",
    "    print('Площадь круга: ', var_square_)\n",
    "elif var_figure_input_ == 'треугольник': \n",
    "    var_triangle_A_ = int(input('Введите длину 1ой стороны треугольника \"A\": '))\n",
    "    var_triangle_B_ = int(input('Введите длину 1ой стороны треугольника \"B\": '))\n",
    "    var_triangle_C_ = int(input('Введите длину 1ой стороны треугольника \"C\": '))\n",
    "    var_p_1_ = var_triangle_A_ + var_triangle_B_ + var_triangle_C_\n",
    "    var_p_2_ = var_p_1_ / 2\n",
    "    var_square_1_ = var_p_2_*(var_p_2_ - var_triangle_A_)*(var_p_2_ - var_triangle_B_)*(var_p_2_ - var_triangle_C_)\n",
    "    var_square_2_ = var_square_1_**0.5\n",
    "    print('Площадь треугольника: ', var_square_2_)\n",
    "elif var_figure_input_ == 'прямоугольник': \n",
    "    var_rectangle_A_ = int(input('Введите длину 1ой стороны прямоугольника \"A\": '))\n",
    "    var_rectangle_B_ = int(input('Введите длины 1ой стороны прямоугольника \"B\": '))\n",
    "    var_square_ = var_rectangle_A_ * var_rectangle_B_\n",
    "    print('Площадь прямоугольника: ', var_square_)\n",
    "else:\n",
    "    print('неверная фигура')"
   ]
  }
 ],
 "metadata": {
  "kernelspec": {
   "display_name": "Python 3",
   "language": "python",
   "name": "python3"
  },
  "language_info": {
   "codemirror_mode": {
    "name": "ipython",
    "version": 3
   },
   "file_extension": ".py",
   "mimetype": "text/x-python",
   "name": "python",
   "nbconvert_exporter": "python",
   "pygments_lexer": "ipython3",
   "version": "3.8.3"
  }
 },
 "nbformat": 4,
 "nbformat_minor": 4
}
